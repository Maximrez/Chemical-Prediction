{
 "cells": [
  {
   "cell_type": "code",
   "execution_count": 1,
   "id": "initial_id",
   "metadata": {
    "collapsed": true,
    "ExecuteTime": {
     "end_time": "2024-02-19T09:04:01.211292600Z",
     "start_time": "2024-02-19T09:03:58.128927300Z"
    }
   },
   "outputs": [
    {
     "name": "stdout",
     "output_type": "stream",
     "text": [
      "Requirement already satisfied: rdkit in c:\\users\\maxim\\appdata\\local\\programs\\python\\python311\\lib\\site-packages (2023.9.1)\n",
      "Requirement already satisfied: numpy in c:\\users\\maxim\\appdata\\local\\programs\\python\\python311\\lib\\site-packages (from rdkit) (1.23.5)\n",
      "Requirement already satisfied: Pillow in c:\\users\\maxim\\appdata\\local\\programs\\python\\python311\\lib\\site-packages (from rdkit) (9.5.0)\n"
     ]
    },
    {
     "name": "stderr",
     "output_type": "stream",
     "text": [
      "\n",
      "[notice] A new release of pip is available: 23.3.2 -> 24.0\n",
      "[notice] To update, run: python.exe -m pip install --upgrade pip\n"
     ]
    }
   ],
   "source": [
    "!pip install rdkit"
   ]
  },
  {
   "cell_type": "code",
   "execution_count": 45,
   "outputs": [],
   "source": [
    "import typing\n",
    "import pandas as pd\n",
    "import numpy as np\n",
    "from rdkit import Chem\n",
    "from rdkit import DataStructs\n",
    "from rdkit.Chem import AllChem, Descriptors\n",
    "import torch\n",
    "from torch.utils.data import Dataset\n",
    "from sklearn.preprocessing import FunctionTransformer"
   ],
   "metadata": {
    "collapsed": false,
    "ExecuteTime": {
     "end_time": "2024-02-19T09:28:02.325610Z",
     "start_time": "2024-02-19T09:28:02.310370400Z"
    }
   },
   "id": "511ca0b0a376ab76"
  },
  {
   "cell_type": "code",
   "execution_count": 82,
   "outputs": [
    {
     "data": {
      "text/plain": "         Title  IC50, mmg/ml  CC50-MDCK, mmg/ml          SI  Molecular weight  \\\n0  1007-Ya-213           2.7              500.0  185.185185           195.307   \n1  1007-Ya-213           0.7              447.0  638.571429           195.307   \n2  1008-Ya-187           9.9              144.0   14.545455           250.431   \n3  1009-As-106           8.3              500.0   60.240964           222.377   \n4  1010-Ya-208          39.4              143.0    3.629442           239.361   \n\n   Hydrogen bond acceptors  Hydrogen bond donors  Polar SA  \\\n0                        2                     1     32.59   \n1                        2                     1     32.59   \n2                        1                     0     15.60   \n3                        1                     0     15.60   \n4                        2                     0     29.54   \n\n                                         SMILES  Pictures  \n0           OCC\\N=C(\\[C@]12C)C[C@@H](C1(C)C)CC2      50.0  \n1           OCC\\N=C(\\[C@]12C)C[C@@H](C1(C)C)CC2      51.0  \n2     CCN(CC)CC\\N=C(\\[C@@]12C)C[C@H](C1(C)C)CC2      52.0  \n3       CN(C)CC\\N=C(\\[C@@]12C)C[C@H](C1(C)C)CC2      53.0  \n4  CN(C)CC(=O)O[C@H]1C[C@H](CC2)C(C)(C)[C@@]12C      54.0  ",
      "text/html": "<div>\n<style scoped>\n    .dataframe tbody tr th:only-of-type {\n        vertical-align: middle;\n    }\n\n    .dataframe tbody tr th {\n        vertical-align: top;\n    }\n\n    .dataframe thead th {\n        text-align: right;\n    }\n</style>\n<table border=\"1\" class=\"dataframe\">\n  <thead>\n    <tr style=\"text-align: right;\">\n      <th></th>\n      <th>Title</th>\n      <th>IC50, mmg/ml</th>\n      <th>CC50-MDCK, mmg/ml</th>\n      <th>SI</th>\n      <th>Molecular weight</th>\n      <th>Hydrogen bond acceptors</th>\n      <th>Hydrogen bond donors</th>\n      <th>Polar SA</th>\n      <th>SMILES</th>\n      <th>Pictures</th>\n    </tr>\n  </thead>\n  <tbody>\n    <tr>\n      <th>0</th>\n      <td>1007-Ya-213</td>\n      <td>2.7</td>\n      <td>500.0</td>\n      <td>185.185185</td>\n      <td>195.307</td>\n      <td>2</td>\n      <td>1</td>\n      <td>32.59</td>\n      <td>OCC\\N=C(\\[C@]12C)C[C@@H](C1(C)C)CC2</td>\n      <td>50.0</td>\n    </tr>\n    <tr>\n      <th>1</th>\n      <td>1007-Ya-213</td>\n      <td>0.7</td>\n      <td>447.0</td>\n      <td>638.571429</td>\n      <td>195.307</td>\n      <td>2</td>\n      <td>1</td>\n      <td>32.59</td>\n      <td>OCC\\N=C(\\[C@]12C)C[C@@H](C1(C)C)CC2</td>\n      <td>51.0</td>\n    </tr>\n    <tr>\n      <th>2</th>\n      <td>1008-Ya-187</td>\n      <td>9.9</td>\n      <td>144.0</td>\n      <td>14.545455</td>\n      <td>250.431</td>\n      <td>1</td>\n      <td>0</td>\n      <td>15.60</td>\n      <td>CCN(CC)CC\\N=C(\\[C@@]12C)C[C@H](C1(C)C)CC2</td>\n      <td>52.0</td>\n    </tr>\n    <tr>\n      <th>3</th>\n      <td>1009-As-106</td>\n      <td>8.3</td>\n      <td>500.0</td>\n      <td>60.240964</td>\n      <td>222.377</td>\n      <td>1</td>\n      <td>0</td>\n      <td>15.60</td>\n      <td>CN(C)CC\\N=C(\\[C@@]12C)C[C@H](C1(C)C)CC2</td>\n      <td>53.0</td>\n    </tr>\n    <tr>\n      <th>4</th>\n      <td>1010-Ya-208</td>\n      <td>39.4</td>\n      <td>143.0</td>\n      <td>3.629442</td>\n      <td>239.361</td>\n      <td>2</td>\n      <td>0</td>\n      <td>29.54</td>\n      <td>CN(C)CC(=O)O[C@H]1C[C@H](CC2)C(C)(C)[C@@]12C</td>\n      <td>54.0</td>\n    </tr>\n  </tbody>\n</table>\n</div>"
     },
     "execution_count": 82,
     "metadata": {},
     "output_type": "execute_result"
    }
   ],
   "source": [
    "data = pd.read_excel('data/All-1614.xlsx')\n",
    "data.head()"
   ],
   "metadata": {
    "collapsed": false,
    "ExecuteTime": {
     "end_time": "2024-02-19T10:21:15.442730900Z",
     "start_time": "2024-02-19T10:21:15.290060400Z"
    }
   },
   "id": "254d050169781209"
  },
  {
   "cell_type": "code",
   "execution_count": 83,
   "outputs": [],
   "source": [
    "data.rename(columns={'IC50, mmg/ml': 'IC50', 'CC50-MDCK, mmg/ml': 'CC50'}, inplace=True)"
   ],
   "metadata": {
    "collapsed": false,
    "ExecuteTime": {
     "end_time": "2024-02-19T10:21:16.073881Z",
     "start_time": "2024-02-19T10:21:16.058236500Z"
    }
   },
   "id": "201f46c714597cda"
  },
  {
   "cell_type": "code",
   "execution_count": 48,
   "outputs": [
    {
     "data": {
      "text/plain": "   HeavyAtomCount  NHOHCount  NOCount  NumHAcceptors  NumHDonors  \\\n0              14          1        2              2           1   \n1              14          1        2              2           1   \n2              18          0        2              2           0   \n3              16          0        2              2           0   \n4              17          0        3              3           0   \n\n   NumHeteroatoms  NumRotatableBonds  NumValenceElectrons  NumAromaticRings  \\\n0               2                  2                   80                 0   \n1               2                  2                   80                 0   \n2               2                  5                  104                 0   \n3               2                  3                   92                 0   \n4               3                  3                   98                 0   \n\n   NumAliphaticHeterocycles  RingCount       MW    LogP       MR   TPSA  \n0                         0          2  195.306  2.2659  58.6168  32.59  \n1                         0          2  195.306  2.2659  58.6168  32.59  \n2                         0          2  250.430  3.6154  79.3190  15.60  \n3                         0          2  222.376  2.8352  70.0850  15.60  \n4                         0          2  239.359  2.3060  67.6630  29.54  ",
      "text/html": "<div>\n<style scoped>\n    .dataframe tbody tr th:only-of-type {\n        vertical-align: middle;\n    }\n\n    .dataframe tbody tr th {\n        vertical-align: top;\n    }\n\n    .dataframe thead th {\n        text-align: right;\n    }\n</style>\n<table border=\"1\" class=\"dataframe\">\n  <thead>\n    <tr style=\"text-align: right;\">\n      <th></th>\n      <th>HeavyAtomCount</th>\n      <th>NHOHCount</th>\n      <th>NOCount</th>\n      <th>NumHAcceptors</th>\n      <th>NumHDonors</th>\n      <th>NumHeteroatoms</th>\n      <th>NumRotatableBonds</th>\n      <th>NumValenceElectrons</th>\n      <th>NumAromaticRings</th>\n      <th>NumAliphaticHeterocycles</th>\n      <th>RingCount</th>\n      <th>MW</th>\n      <th>LogP</th>\n      <th>MR</th>\n      <th>TPSA</th>\n    </tr>\n  </thead>\n  <tbody>\n    <tr>\n      <th>0</th>\n      <td>14</td>\n      <td>1</td>\n      <td>2</td>\n      <td>2</td>\n      <td>1</td>\n      <td>2</td>\n      <td>2</td>\n      <td>80</td>\n      <td>0</td>\n      <td>0</td>\n      <td>2</td>\n      <td>195.306</td>\n      <td>2.2659</td>\n      <td>58.6168</td>\n      <td>32.59</td>\n    </tr>\n    <tr>\n      <th>1</th>\n      <td>14</td>\n      <td>1</td>\n      <td>2</td>\n      <td>2</td>\n      <td>1</td>\n      <td>2</td>\n      <td>2</td>\n      <td>80</td>\n      <td>0</td>\n      <td>0</td>\n      <td>2</td>\n      <td>195.306</td>\n      <td>2.2659</td>\n      <td>58.6168</td>\n      <td>32.59</td>\n    </tr>\n    <tr>\n      <th>2</th>\n      <td>18</td>\n      <td>0</td>\n      <td>2</td>\n      <td>2</td>\n      <td>0</td>\n      <td>2</td>\n      <td>5</td>\n      <td>104</td>\n      <td>0</td>\n      <td>0</td>\n      <td>2</td>\n      <td>250.430</td>\n      <td>3.6154</td>\n      <td>79.3190</td>\n      <td>15.60</td>\n    </tr>\n    <tr>\n      <th>3</th>\n      <td>16</td>\n      <td>0</td>\n      <td>2</td>\n      <td>2</td>\n      <td>0</td>\n      <td>2</td>\n      <td>3</td>\n      <td>92</td>\n      <td>0</td>\n      <td>0</td>\n      <td>2</td>\n      <td>222.376</td>\n      <td>2.8352</td>\n      <td>70.0850</td>\n      <td>15.60</td>\n    </tr>\n    <tr>\n      <th>4</th>\n      <td>17</td>\n      <td>0</td>\n      <td>3</td>\n      <td>3</td>\n      <td>0</td>\n      <td>3</td>\n      <td>3</td>\n      <td>98</td>\n      <td>0</td>\n      <td>0</td>\n      <td>2</td>\n      <td>239.359</td>\n      <td>2.3060</td>\n      <td>67.6630</td>\n      <td>29.54</td>\n    </tr>\n  </tbody>\n</table>\n</div>"
     },
     "execution_count": 48,
     "metadata": {},
     "output_type": "execute_result"
    }
   ],
   "source": [
    "def mol_dsc_calc(mols):\n",
    "    return pd.DataFrame({k: f(Chem.MolFromSmiles(m)) for k, f in descriptors.items()} for m in mols)\n",
    "\n",
    "\n",
    "# список конституционных и физико-химических дескрипторов из библиотеки RDKit\n",
    "descriptors = {\"HeavyAtomCount\": Descriptors.HeavyAtomCount,\n",
    "               \"NHOHCount\": Descriptors.NHOHCount,\n",
    "               \"NOCount\": Descriptors.NOCount,\n",
    "               \"NumHAcceptors\": Descriptors.NumHAcceptors,\n",
    "               \"NumHDonors\": Descriptors.NumHDonors,\n",
    "               \"NumHeteroatoms\": Descriptors.NumHeteroatoms,\n",
    "               \"NumRotatableBonds\": Descriptors.NumRotatableBonds,\n",
    "               \"NumValenceElectrons\": Descriptors.NumValenceElectrons,\n",
    "               \"NumAromaticRings\": Descriptors.NumAromaticRings,\n",
    "               \"NumAliphaticHeterocycles\": Descriptors.NumAliphaticHeterocycles,\n",
    "               \"RingCount\": Descriptors.RingCount,\n",
    "               \"MW\": Descriptors.MolWt,\n",
    "               \"LogP\": Descriptors.MolLogP,\n",
    "               \"MR\": Descriptors.MolMR,\n",
    "               \"TPSA\": Descriptors.TPSA}\n",
    "\n",
    "# sklearn трансформер для использования в конвейерном моделировании\n",
    "descriptors_transformer = FunctionTransformer(mol_dsc_calc)"
   ],
   "metadata": {
    "collapsed": false,
    "ExecuteTime": {
     "end_time": "2024-02-19T09:32:15.202475600Z",
     "start_time": "2024-02-19T09:32:09.396342400Z"
    }
   },
   "id": "bb0fe8db9627e52c"
  },
  {
   "cell_type": "code",
   "execution_count": 49,
   "outputs": [],
   "source": [
    "def rdkit_fp(smiles_column: pd.Series, radius=3, nBits=2048, useChirality=False):\n",
    "    # morganFP_rdkit\n",
    "    def desc_gen(mol):\n",
    "        mol = Chem.MolFromSmiles(mol)\n",
    "        bit_vec = np.zeros((1,), np.int16)\n",
    "        DataStructs.ConvertToNumpyArray(\n",
    "            AllChem.GetMorganFingerprintAsBitVect(mol, radius=radius, nBits=nBits, useChirality=useChirality), bit_vec)\n",
    "        return bit_vec\n",
    "\n",
    "    return pd.DataFrame.from_records(smiles_column.apply(func=desc_gen), columns=[f'bit_id_{i}' for i in range(nBits)])\n",
    "\n",
    "\n",
    "def rdkit_2d(smiles_column: pd.Series):\n",
    "    # 2d_rdkit\n",
    "    descriptors = {i[0]: i[1] for i in Descriptors._descList}\n",
    "    return pd.DataFrame({k: f(Chem.MolFromSmiles(m)) for k, f in descriptors.items()} for m in smiles_column)"
   ],
   "metadata": {
    "collapsed": false,
    "ExecuteTime": {
     "end_time": "2024-02-19T09:32:15.210698500Z",
     "start_time": "2024-02-19T09:32:15.204476Z"
    }
   },
   "id": "af93fd5a9e68e941"
  },
  {
   "cell_type": "code",
   "execution_count": 84,
   "outputs": [],
   "source": [
    "from dataclasses import dataclass\n",
    "\n",
    "\n",
    "@dataclass\n",
    "class SMILESDescriptor:\n",
    "    descriptor: typing.Callable\n",
    "    title: typing.Optional[str] = None"
   ],
   "metadata": {
    "collapsed": false,
    "ExecuteTime": {
     "end_time": "2024-02-19T10:21:19.271189300Z",
     "start_time": "2024-02-19T10:21:19.239359200Z"
    }
   },
   "id": "2fde1b6f0406411d"
  },
  {
   "cell_type": "code",
   "execution_count": 85,
   "outputs": [],
   "source": [
    "class SMILESMolDataset(Dataset):\n",
    "    def __init__(\n",
    "            self,\n",
    "            *,\n",
    "            data: pd.DataFrame,\n",
    "            x_columns: typing.List[str],\n",
    "            y_columns: typing.List[str],\n",
    "            smiles_descriptors: typing.Iterable[SMILESDescriptor] = None\n",
    "    ):\n",
    "        self.data = data\n",
    "        self.x_columns = x_columns\n",
    "        self.y_columns = y_columns\n",
    "        self.smiles_descriptors = smiles_descriptors\n",
    "\n",
    "        self._descript_smiles()\n",
    "\n",
    "    def _descript_smiles(self):\n",
    "        if self.smiles_descriptors:\n",
    "            for d in self.smiles_descriptors:\n",
    "                d_data = d.descriptor(self.data['SMILES'])\n",
    "                self.data = self.data.join(d_data, lsuffix=d.title or '')\n",
    "\n",
    "    def columns(self):\n",
    "        return self.data.columns\n",
    "\n",
    "    def __len__(self):\n",
    "        return len(self.data)\n",
    "\n",
    "    def __getitem__(self, idx):\n",
    "        if torch.is_tensor(idx):\n",
    "            idx = idx.tolist()\n",
    "\n",
    "        x = self.data[self.x_columns].loc[idx].values\n",
    "        y = self.data[self.y_columns].loc[idx].values\n",
    "        return x, y"
   ],
   "metadata": {
    "collapsed": false,
    "ExecuteTime": {
     "end_time": "2024-02-19T10:21:20.692527600Z",
     "start_time": "2024-02-19T10:21:20.692527600Z"
    }
   },
   "id": "fe912fcccf9c19fa"
  },
  {
   "cell_type": "code",
   "execution_count": 86,
   "outputs": [],
   "source": [
    "dataset = SMILESMolDataset(\n",
    "    data=data,\n",
    "    x_columns=['Title', 'SMILES', 'SI'],\n",
    "    y_columns=['CC50'],\n",
    "    smiles_descriptors=[\n",
    "        SMILESDescriptor(descriptors_transformer.transform),\n",
    "        SMILESDescriptor(rdkit_fp, 'rdkit_fp'),\n",
    "        SMILESDescriptor(rdkit_2d, 'rdkit_2d')\n",
    "    ]\n",
    ")"
   ],
   "metadata": {
    "collapsed": false,
    "ExecuteTime": {
     "end_time": "2024-02-19T10:23:18.122868300Z",
     "start_time": "2024-02-19T10:21:21.635657800Z"
    }
   },
   "id": "1f82b487c26204a9"
  },
  {
   "cell_type": "code",
   "execution_count": 88,
   "outputs": [
    {
     "data": {
      "text/plain": "(array(['1007-Ya-213', 'OCC\\\\N=C(\\\\[C@]12C)C[C@@H](C1(C)C)CC2',\n        638.5714285714286], dtype=object),\n array([447.]))"
     },
     "execution_count": 88,
     "metadata": {},
     "output_type": "execute_result"
    }
   ],
   "source": [
    "dataset[1]"
   ],
   "metadata": {
    "collapsed": false,
    "ExecuteTime": {
     "end_time": "2024-02-19T10:23:18.136846900Z",
     "start_time": "2024-02-19T10:23:18.128208800Z"
    }
   },
   "id": "473bf0ead0ce8757"
  }
 ],
 "metadata": {
  "kernelspec": {
   "display_name": "Python 3",
   "language": "python",
   "name": "python3"
  },
  "language_info": {
   "codemirror_mode": {
    "name": "ipython",
    "version": 2
   },
   "file_extension": ".py",
   "mimetype": "text/x-python",
   "name": "python",
   "nbconvert_exporter": "python",
   "pygments_lexer": "ipython2",
   "version": "2.7.6"
  }
 },
 "nbformat": 4,
 "nbformat_minor": 5
}
