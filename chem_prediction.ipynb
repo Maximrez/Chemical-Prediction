{
 "cells": [
  {
   "cell_type": "code",
   "execution_count": null,
   "id": "initial_id",
   "metadata": {
    "collapsed": true
   },
   "outputs": [],
   "source": [
    "!pip install rdkit & > /dev/null"
   ]
  },
  {
   "cell_type": "code",
   "execution_count": 1,
   "outputs": [],
   "source": [
    "import torch\n",
    "import random\n",
    "import typing\n",
    "import warnings\n",
    "import numpy as np\n",
    "import pandas as pd\n",
    "import seaborn as sns\n",
    "from rdkit import Chem\n",
    "from rdkit import DataStructs\n",
    "from torch.utils.data import Dataset\n",
    "from sklearn.metrics import accuracy_score\n",
    "from rdkit.Chem import AllChem, Descriptors\n",
    "from sklearn.preprocessing import FunctionTransformer\n",
    "\n",
    "warnings.filterwarnings('ignore')"
   ],
   "metadata": {
    "collapsed": false,
    "ExecuteTime": {
     "end_time": "2024-03-13T16:05:23.678549300Z",
     "start_time": "2024-03-13T16:05:21.462863900Z"
    }
   },
   "id": "511ca0b0a376ab76"
  },
  {
   "cell_type": "code",
   "execution_count": 2,
   "outputs": [],
   "source": [
    "seed = 42\n",
    "torch.manual_seed(seed)\n",
    "np.random.seed(seed)\n",
    "random.seed(seed)\n",
    "torch.cuda.manual_seed(seed)\n",
    "torch.backends.cudnn.deterministic = True"
   ],
   "metadata": {
    "collapsed": false,
    "ExecuteTime": {
     "end_time": "2024-03-13T16:05:28.715328400Z",
     "start_time": "2024-03-13T16:05:28.699362500Z"
    }
   },
   "id": "c69123d95f420e37"
  },
  {
   "cell_type": "code",
   "execution_count": 3,
   "outputs": [
    {
     "data": {
      "text/plain": "         Title  IC50, mmg/ml  CC50-MDCK, mmg/ml          SI  Molecular weight  \\\n0  1007-Ya-213           2.7              500.0  185.185185           195.307   \n1  1007-Ya-213           0.7              447.0  638.571429           195.307   \n2  1008-Ya-187           9.9              144.0   14.545455           250.431   \n3  1009-As-106           8.3              500.0   60.240964           222.377   \n4  1010-Ya-208          39.4              143.0    3.629442           239.361   \n\n   Hydrogen bond acceptors  Hydrogen bond donors  Polar SA  \\\n0                        2                     1     32.59   \n1                        2                     1     32.59   \n2                        1                     0     15.60   \n3                        1                     0     15.60   \n4                        2                     0     29.54   \n\n                                         SMILES  Pictures  \n0           OCC\\N=C(\\[C@]12C)C[C@@H](C1(C)C)CC2      50.0  \n1           OCC\\N=C(\\[C@]12C)C[C@@H](C1(C)C)CC2      51.0  \n2     CCN(CC)CC\\N=C(\\[C@@]12C)C[C@H](C1(C)C)CC2      52.0  \n3       CN(C)CC\\N=C(\\[C@@]12C)C[C@H](C1(C)C)CC2      53.0  \n4  CN(C)CC(=O)O[C@H]1C[C@H](CC2)C(C)(C)[C@@]12C      54.0  ",
      "text/html": "<div>\n<style scoped>\n    .dataframe tbody tr th:only-of-type {\n        vertical-align: middle;\n    }\n\n    .dataframe tbody tr th {\n        vertical-align: top;\n    }\n\n    .dataframe thead th {\n        text-align: right;\n    }\n</style>\n<table border=\"1\" class=\"dataframe\">\n  <thead>\n    <tr style=\"text-align: right;\">\n      <th></th>\n      <th>Title</th>\n      <th>IC50, mmg/ml</th>\n      <th>CC50-MDCK, mmg/ml</th>\n      <th>SI</th>\n      <th>Molecular weight</th>\n      <th>Hydrogen bond acceptors</th>\n      <th>Hydrogen bond donors</th>\n      <th>Polar SA</th>\n      <th>SMILES</th>\n      <th>Pictures</th>\n    </tr>\n  </thead>\n  <tbody>\n    <tr>\n      <th>0</th>\n      <td>1007-Ya-213</td>\n      <td>2.7</td>\n      <td>500.0</td>\n      <td>185.185185</td>\n      <td>195.307</td>\n      <td>2</td>\n      <td>1</td>\n      <td>32.59</td>\n      <td>OCC\\N=C(\\[C@]12C)C[C@@H](C1(C)C)CC2</td>\n      <td>50.0</td>\n    </tr>\n    <tr>\n      <th>1</th>\n      <td>1007-Ya-213</td>\n      <td>0.7</td>\n      <td>447.0</td>\n      <td>638.571429</td>\n      <td>195.307</td>\n      <td>2</td>\n      <td>1</td>\n      <td>32.59</td>\n      <td>OCC\\N=C(\\[C@]12C)C[C@@H](C1(C)C)CC2</td>\n      <td>51.0</td>\n    </tr>\n    <tr>\n      <th>2</th>\n      <td>1008-Ya-187</td>\n      <td>9.9</td>\n      <td>144.0</td>\n      <td>14.545455</td>\n      <td>250.431</td>\n      <td>1</td>\n      <td>0</td>\n      <td>15.60</td>\n      <td>CCN(CC)CC\\N=C(\\[C@@]12C)C[C@H](C1(C)C)CC2</td>\n      <td>52.0</td>\n    </tr>\n    <tr>\n      <th>3</th>\n      <td>1009-As-106</td>\n      <td>8.3</td>\n      <td>500.0</td>\n      <td>60.240964</td>\n      <td>222.377</td>\n      <td>1</td>\n      <td>0</td>\n      <td>15.60</td>\n      <td>CN(C)CC\\N=C(\\[C@@]12C)C[C@H](C1(C)C)CC2</td>\n      <td>53.0</td>\n    </tr>\n    <tr>\n      <th>4</th>\n      <td>1010-Ya-208</td>\n      <td>39.4</td>\n      <td>143.0</td>\n      <td>3.629442</td>\n      <td>239.361</td>\n      <td>2</td>\n      <td>0</td>\n      <td>29.54</td>\n      <td>CN(C)CC(=O)O[C@H]1C[C@H](CC2)C(C)(C)[C@@]12C</td>\n      <td>54.0</td>\n    </tr>\n  </tbody>\n</table>\n</div>"
     },
     "execution_count": 3,
     "metadata": {},
     "output_type": "execute_result"
    }
   ],
   "source": [
    "data = pd.read_excel('data/All-1614.xlsx')\n",
    "data.head()"
   ],
   "metadata": {
    "collapsed": false,
    "ExecuteTime": {
     "end_time": "2024-03-13T16:05:30.179621Z",
     "start_time": "2024-03-13T16:05:29.858698200Z"
    }
   },
   "id": "254d050169781209"
  },
  {
   "cell_type": "code",
   "execution_count": 4,
   "outputs": [],
   "source": [
    "data.rename(\n",
    "    columns={'IC50, mmg/ml': 'IC50', 'CC50-MDCK, mmg/ml': 'CC50'},\n",
    "    inplace=True\n",
    ")"
   ],
   "metadata": {
    "collapsed": false,
    "ExecuteTime": {
     "end_time": "2024-03-13T16:05:31.369030800Z",
     "start_time": "2024-03-13T16:05:31.353180500Z"
    }
   },
   "id": "201f46c714597cda"
  },
  {
   "cell_type": "code",
   "execution_count": 5,
   "outputs": [],
   "source": [
    "def mol_dsc_calc(mols):\n",
    "    return pd.DataFrame({k: f(Chem.MolFromSmiles(m)) for k, f in descriptors.items()} for m in mols)\n",
    "\n",
    "\n",
    "# список конституционных и физико-химических дескрипторов из библиотеки RDKit\n",
    "descriptors = {\n",
    "    'HeavyAtomCount': Descriptors.HeavyAtomCount,\n",
    "    'NHOHCount': Descriptors.NHOHCount,\n",
    "    'NOCount': Descriptors.NOCount,\n",
    "    'NumHAcceptors': Descriptors.NumHAcceptors,\n",
    "    'NumHDonors': Descriptors.NumHDonors,\n",
    "    'NumHeteroatoms': Descriptors.NumHeteroatoms,\n",
    "    'NumRotatableBonds': Descriptors.NumRotatableBonds,\n",
    "    'NumValenceElectrons': Descriptors.NumValenceElectrons,\n",
    "    'NumAromaticRings': Descriptors.NumAromaticRings,\n",
    "    'NumAliphaticHeterocycles': Descriptors.NumAliphaticHeterocycles,\n",
    "    'RingCount': Descriptors.RingCount,\n",
    "    'MW': Descriptors.MolWt,\n",
    "    'LogP': Descriptors.MolLogP,\n",
    "    'MR': Descriptors.MolMR,\n",
    "    'TPSA': Descriptors.TPSA\n",
    "}\n",
    "\n",
    "# sklearn трансформер для использования в конвейерном моделировании\n",
    "descriptors_transformer = FunctionTransformer(mol_dsc_calc)"
   ],
   "metadata": {
    "collapsed": false,
    "ExecuteTime": {
     "end_time": "2024-03-13T16:05:32.503262Z",
     "start_time": "2024-03-13T16:05:32.503262Z"
    }
   },
   "id": "bb0fe8db9627e52c"
  },
  {
   "cell_type": "code",
   "execution_count": 6,
   "outputs": [],
   "source": [
    "def rdkit_fp(smiles_column: pd.Series, radius=3, nBits=2048, useChirality=False):\n",
    "    # morganFP_rdkit\n",
    "    def desc_gen(mol):\n",
    "        mol = Chem.MolFromSmiles(mol)\n",
    "        bit_vec = np.zeros((1,), np.int16)\n",
    "        DataStructs.ConvertToNumpyArray(\n",
    "            AllChem.GetMorganFingerprintAsBitVect(mol, radius=radius, nBits=nBits, useChirality=useChirality), bit_vec)\n",
    "        return bit_vec\n",
    "\n",
    "    return pd.DataFrame.from_records(smiles_column.apply(func=desc_gen), columns=[f'bit_id_{i}' for i in range(nBits)])\n",
    "\n",
    "\n",
    "def rdkit_2d(smiles_column: pd.Series):\n",
    "    # 2d_rdkit\n",
    "    descriptors = {i[0]: i[1] for i in Descriptors._descList}\n",
    "    return pd.DataFrame({k: f(Chem.MolFromSmiles(m)) for k, f in descriptors.items()} for m in smiles_column)"
   ],
   "metadata": {
    "collapsed": false,
    "ExecuteTime": {
     "end_time": "2024-03-13T16:05:33.489161200Z",
     "start_time": "2024-03-13T16:05:33.486651100Z"
    }
   },
   "id": "af93fd5a9e68e941"
  },
  {
   "cell_type": "code",
   "execution_count": 7,
   "outputs": [],
   "source": [
    "from dataclasses import dataclass\n",
    "\n",
    "\n",
    "@dataclass\n",
    "class SMILESDescriptor:\n",
    "    descriptor: typing.Callable\n",
    "    title: typing.Optional[str] = None"
   ],
   "metadata": {
    "collapsed": false,
    "ExecuteTime": {
     "end_time": "2024-03-13T16:05:34.109999300Z",
     "start_time": "2024-03-13T16:05:34.093908600Z"
    }
   },
   "id": "2fde1b6f0406411d"
  },
  {
   "cell_type": "code",
   "execution_count": 8,
   "outputs": [],
   "source": [
    "class SMILESMolDataset(Dataset):\n",
    "    def __init__(\n",
    "            self,\n",
    "            *,\n",
    "            data: pd.DataFrame,\n",
    "            x_columns: typing.Optional[typing.List[str]] = None,\n",
    "            delete_x_columns: typing.Optional[typing.List[str]] = None,\n",
    "            y_columns: typing.List[str],\n",
    "            x_transform: typing.Optional[typing.Callable] = None,\n",
    "            y_transform: typing.Optional[typing.Callable] = None,\n",
    "            smiles_descriptors: typing.Optional[typing.Iterable[SMILESDescriptor]] = None\n",
    "    ):\n",
    "        self.data = data\n",
    "        self.x_columns = x_columns\n",
    "        self.delete_x_columns = delete_x_columns\n",
    "        self.y_columns = y_columns\n",
    "        self.x_transform = x_transform\n",
    "        self.y_transform = y_transform\n",
    "        self.smiles_descriptors = smiles_descriptors\n",
    "\n",
    "        self._descript_smiles()\n",
    "        self._separate_data()\n",
    "\n",
    "    # применяем дескрипторы\n",
    "    def _descript_smiles(self):\n",
    "        if self.smiles_descriptors:\n",
    "            for d in self.smiles_descriptors:\n",
    "                d_data = d.descriptor(self.data['SMILES'])\n",
    "                self.data = self.data.join(d_data, lsuffix=d.title or '')\n",
    "\n",
    "    # разделяем данные на x и y\n",
    "    def _separate_data(self):\n",
    "        x = self.data\n",
    "\n",
    "        if self.x_columns:\n",
    "            x = x[self.x_columns]\n",
    "\n",
    "        if not self.delete_x_columns:\n",
    "            self.delete_x_columns = []\n",
    "        self.delete_x_columns += self.y_columns\n",
    "        x = x.drop(columns=self.delete_x_columns)\n",
    "\n",
    "        if self.x_transform:\n",
    "            for column in self.x_columns:\n",
    "                x[column] = x[column].apply(self.x_transform)\n",
    "        self.x = x\n",
    "\n",
    "        y = self.data[self.y_columns]\n",
    "        if self.y_transform:\n",
    "            for column in self.y_columns:\n",
    "                y[column] = y[column].apply(self.y_transform)\n",
    "        self.y = y\n",
    "\n",
    "    def __len__(self):\n",
    "        return len(self.data)\n",
    "\n",
    "    def __getitem__(self, idx):\n",
    "        if torch.is_tensor(idx):\n",
    "            idx = idx.tolist()\n",
    "\n",
    "        return self.x.loc[idx].values, self.y.loc[idx].values"
   ],
   "metadata": {
    "collapsed": false,
    "ExecuteTime": {
     "end_time": "2024-03-13T16:05:35.095336500Z",
     "start_time": "2024-03-13T16:05:35.081569600Z"
    }
   },
   "id": "fe912fcccf9c19fa"
  },
  {
   "cell_type": "code",
   "execution_count": 9,
   "outputs": [],
   "source": [
    "train_data = data.sample(frac=0.8, random_state=seed)\n",
    "test_data = data.drop(train_data.index)\n",
    "\n",
    "train_data = train_data.reset_index(drop=True)\n",
    "test_data = test_data.reset_index(drop=True)"
   ],
   "metadata": {
    "collapsed": false,
    "ExecuteTime": {
     "end_time": "2024-03-13T16:05:36.416520100Z",
     "start_time": "2024-03-13T16:05:36.394603600Z"
    }
   },
   "id": "2c5ad6d8d1c00feb"
  },
  {
   "cell_type": "code",
   "execution_count": 10,
   "outputs": [
    {
     "data": {
      "text/plain": "<Axes: xlabel='CC50', ylabel='Count'>"
     },
     "execution_count": 10,
     "metadata": {},
     "output_type": "execute_result"
    },
    {
     "data": {
      "text/plain": "<Figure size 640x480 with 1 Axes>",
      "image/png": "[encoded data removed]"
     },
     "metadata": {},
     "output_type": "display_data"
    }
   ],
   "source": [
    "sns.histplot(train_data['CC50'])"
   ],
   "metadata": {
    "collapsed": false,
    "ExecuteTime": {
     "end_time": "2024-03-13T16:05:41.831351Z",
     "start_time": "2024-03-13T16:05:41.651281500Z"
    }
   },
   "id": "c3c17572bde890f8"
  },
  {
   "cell_type": "code",
   "execution_count": 11,
   "outputs": [
    {
     "data": {
      "text/plain": "75.3785"
     },
     "execution_count": 11,
     "metadata": {},
     "output_type": "execute_result"
    }
   ],
   "source": [
    "cc50_median = train_data['CC50'].median()\n",
    "cc50_median"
   ],
   "metadata": {
    "collapsed": false,
    "ExecuteTime": {
     "end_time": "2024-03-13T16:05:43.190930700Z",
     "start_time": "2024-03-13T16:05:43.159914700Z"
    }
   },
   "id": "aafd92427ae5cbc0"
  },
  {
   "cell_type": "code",
   "execution_count": 12,
   "outputs": [],
   "source": [
    "dataset_args = {\n",
    "    'x_columns': None,\n",
    "    'delete_x_columns': ['Title', 'SMILES', 'IC50', 'SI'],\n",
    "    'y_columns': ['CC50'],\n",
    "    'x_transform': None,\n",
    "    'y_transform': lambda y: int(y >= cc50_median),\n",
    "    'smiles_descriptors': [\n",
    "        SMILESDescriptor(descriptors_transformer.transform),\n",
    "        SMILESDescriptor(rdkit_fp, 'rdkit_fp'),\n",
    "        SMILESDescriptor(rdkit_2d, 'rdkit_2d')\n",
    "    ]\n",
    "}\n",
    "\n",
    "train_dataset = SMILESMolDataset(data=train_data, **dataset_args)\n",
    "test_dataset = SMILESMolDataset(data=test_data, **dataset_args)"
   ],
   "metadata": {
    "collapsed": false,
    "ExecuteTime": {
     "end_time": "2024-03-13T16:08:10.659858600Z",
     "start_time": "2024-03-13T16:06:12.196892600Z"
    }
   },
   "id": "1f82b487c26204a9"
  },
  {
   "cell_type": "code",
   "execution_count": 13,
   "outputs": [
    {
     "data": {
      "text/plain": "(array([167.253,   2.   ,   1.   , ...,   0.   ,   0.   ,   0.   ]),\n array([1], dtype=int64))"
     },
     "execution_count": 13,
     "metadata": {},
     "output_type": "execute_result"
    }
   ],
   "source": [
    "train_dataset[1]"
   ],
   "metadata": {
    "collapsed": false,
    "ExecuteTime": {
     "end_time": "2024-03-13T16:08:55.849284Z",
     "start_time": "2024-03-13T16:08:55.833426Z"
    }
   },
   "id": "cf3673445719027"
  },
  {
   "cell_type": "code",
   "execution_count": 14,
   "outputs": [
    {
     "data": {
      "text/plain": "<Axes: ylabel='Count'>"
     },
     "execution_count": 14,
     "metadata": {},
     "output_type": "execute_result"
    },
    {
     "data": {
      "text/plain": "<Figure size 640x480 with 1 Axes>",
      "image/png": "[encoded data removed]"
     },
     "metadata": {},
     "output_type": "display_data"
    }
   ],
   "source": [
    "sns.histplot(train_dataset.y)"
   ],
   "metadata": {
    "collapsed": false,
    "ExecuteTime": {
     "end_time": "2024-03-13T16:08:57.221528700Z",
     "start_time": "2024-03-13T16:08:57.036935Z"
    }
   },
   "id": "92bdedb1588e9be0"
  },
  {
   "cell_type": "code",
   "execution_count": 15,
   "outputs": [],
   "source": [
    "class TrainingModel:\n",
    "    def __init__(\n",
    "            self,\n",
    "            *,\n",
    "            model: typing.Any,\n",
    "            fit_method: str = 'fit',\n",
    "            predict_method: str = 'predict',\n",
    "            **kwargs\n",
    "    ):\n",
    "        self.model = model(**kwargs)\n",
    "        self._fit_method = fit_method\n",
    "        self._predict_method = predict_method\n",
    "\n",
    "    def fit(self, x_train: pd.DataFrame, y_train: pd.DataFrame, **kwargs):\n",
    "        getattr(self.model, self._fit_method)(x_train, y_train, **kwargs)\n",
    "\n",
    "    def predict(self, x_test: pd.DataFrame, **kwargs) -> typing.Union[np.ndarray]:\n",
    "        return getattr(self.model, self._predict_method)(x_test, **kwargs)"
   ],
   "metadata": {
    "collapsed": false,
    "ExecuteTime": {
     "end_time": "2024-03-13T16:08:58.450024700Z",
     "start_time": "2024-03-13T16:08:58.449522300Z"
    }
   },
   "id": "5f80fd338bd51c59"
  },
  {
   "cell_type": "code",
   "execution_count": null,
   "outputs": [],
   "source": [
    "!pip install catboost & > /dev/null"
   ],
   "metadata": {
    "collapsed": false
   },
   "id": "9c7f2ae759782198"
  },
  {
   "cell_type": "code",
   "execution_count": 17,
   "outputs": [
    {
     "name": "stdout",
     "output_type": "stream",
     "text": [
      "Learning rate set to 0.021687\n",
      "0:\tlearn: 0.6867064\ttotal: 142ms\tremaining: 1m 10s\n",
      "1:\tlearn: 0.6814578\ttotal: 151ms\tremaining: 37.6s\n",
      "2:\tlearn: 0.6769305\ttotal: 161ms\tremaining: 26.7s\n",
      "3:\tlearn: 0.6712004\ttotal: 170ms\tremaining: 21s\n",
      "4:\tlearn: 0.6647078\ttotal: 179ms\tremaining: 17.7s\n",
      "5:\tlearn: 0.6586155\ttotal: 188ms\tremaining: 15.5s\n",
      "6:\tlearn: 0.6542265\ttotal: 199ms\tremaining: 14s\n",
      "7:\tlearn: 0.6492320\ttotal: 210ms\tremaining: 12.9s\n",
      "8:\tlearn: 0.6438304\ttotal: 219ms\tremaining: 12s\n",
      "9:\tlearn: 0.6378880\ttotal: 236ms\tremaining: 11.6s\n",
      "10:\tlearn: 0.6331679\ttotal: 246ms\tremaining: 10.9s\n",
      "11:\tlearn: 0.6290972\ttotal: 256ms\tremaining: 10.4s\n",
      "12:\tlearn: 0.6247845\ttotal: 266ms\tremaining: 9.96s\n",
      "13:\tlearn: 0.6208040\ttotal: 275ms\tremaining: 9.54s\n",
      "14:\tlearn: 0.6153005\ttotal: 284ms\tremaining: 9.19s\n",
      "15:\tlearn: 0.6091981\ttotal: 294ms\tremaining: 8.89s\n",
      "16:\tlearn: 0.6040342\ttotal: 304ms\tremaining: 8.63s\n",
      "17:\tlearn: 0.6002151\ttotal: 314ms\tremaining: 8.39s\n",
      "18:\tlearn: 0.5976310\ttotal: 323ms\tremaining: 8.17s\n",
      "19:\tlearn: 0.5927578\ttotal: 333ms\tremaining: 8s\n",
      "20:\tlearn: 0.5881489\ttotal: 343ms\tremaining: 7.82s\n",
      "21:\tlearn: 0.5835814\ttotal: 353ms\tremaining: 7.68s\n",
      "22:\tlearn: 0.5798287\ttotal: 365ms\tremaining: 7.57s\n",
      "23:\tlearn: 0.5750163\ttotal: 375ms\tremaining: 7.43s\n",
      "24:\tlearn: 0.5714742\ttotal: 393ms\tremaining: 7.46s\n",
      "25:\tlearn: 0.5673809\ttotal: 404ms\tremaining: 7.36s\n",
      "26:\tlearn: 0.5644172\ttotal: 415ms\tremaining: 7.28s\n",
      "27:\tlearn: 0.5603653\ttotal: 425ms\tremaining: 7.17s\n",
      "28:\tlearn: 0.5575802\ttotal: 437ms\tremaining: 7.1s\n",
      "29:\tlearn: 0.5549611\ttotal: 448ms\tremaining: 7.01s\n",
      "30:\tlearn: 0.5510272\ttotal: 457ms\tremaining: 6.92s\n",
      "31:\tlearn: 0.5475059\ttotal: 469ms\tremaining: 6.86s\n",
      "32:\tlearn: 0.5443121\ttotal: 480ms\tremaining: 6.8s\n",
      "33:\tlearn: 0.5405146\ttotal: 489ms\tremaining: 6.71s\n",
      "34:\tlearn: 0.5376147\ttotal: 499ms\tremaining: 6.63s\n",
      "35:\tlearn: 0.5355049\ttotal: 508ms\tremaining: 6.55s\n",
      "36:\tlearn: 0.5330331\ttotal: 517ms\tremaining: 6.46s\n",
      "37:\tlearn: 0.5305865\ttotal: 526ms\tremaining: 6.39s\n",
      "38:\tlearn: 0.5268081\ttotal: 534ms\tremaining: 6.32s\n",
      "39:\tlearn: 0.5227923\ttotal: 544ms\tremaining: 6.25s\n",
      "40:\tlearn: 0.5203410\ttotal: 554ms\tremaining: 6.2s\n",
      "41:\tlearn: 0.5180172\ttotal: 564ms\tremaining: 6.15s\n",
      "42:\tlearn: 0.5152022\ttotal: 573ms\tremaining: 6.09s\n",
      "43:\tlearn: 0.5127260\ttotal: 582ms\tremaining: 6.03s\n",
      "44:\tlearn: 0.5102565\ttotal: 590ms\tremaining: 5.97s\n",
      "45:\tlearn: 0.5083556\ttotal: 599ms\tremaining: 5.91s\n",
      "46:\tlearn: 0.5057414\ttotal: 608ms\tremaining: 5.86s\n",
      "47:\tlearn: 0.5036908\ttotal: 618ms\tremaining: 5.82s\n",
      "48:\tlearn: 0.5018420\ttotal: 629ms\tremaining: 5.79s\n",
      "49:\tlearn: 0.5000567\ttotal: 639ms\tremaining: 5.75s\n",
      "50:\tlearn: 0.4977561\ttotal: 651ms\tremaining: 5.73s\n",
      "51:\tlearn: 0.4959533\ttotal: 662ms\tremaining: 5.71s\n",
      "52:\tlearn: 0.4940303\ttotal: 674ms\tremaining: 5.69s\n",
      "53:\tlearn: 0.4921464\ttotal: 685ms\tremaining: 5.66s\n",
      "54:\tlearn: 0.4905100\ttotal: 696ms\tremaining: 5.63s\n",
      "55:\tlearn: 0.4875542\ttotal: 705ms\tremaining: 5.59s\n",
      "56:\tlearn: 0.4845547\ttotal: 714ms\tremaining: 5.55s\n",
      "57:\tlearn: 0.4830017\ttotal: 723ms\tremaining: 5.51s\n",
      "58:\tlearn: 0.4814560\ttotal: 731ms\tremaining: 5.47s\n",
      "59:\tlearn: 0.4803782\ttotal: 740ms\tremaining: 5.43s\n",
      "60:\tlearn: 0.4779960\ttotal: 749ms\tremaining: 5.39s\n",
      "61:\tlearn: 0.4751493\ttotal: 758ms\tremaining: 5.35s\n",
      "62:\tlearn: 0.4737168\ttotal: 767ms\tremaining: 5.32s\n",
      "63:\tlearn: 0.4718555\ttotal: 775ms\tremaining: 5.28s\n",
      "64:\tlearn: 0.4705279\ttotal: 784ms\tremaining: 5.25s\n",
      "65:\tlearn: 0.4693037\ttotal: 792ms\tremaining: 5.21s\n",
      "66:\tlearn: 0.4679392\ttotal: 801ms\tremaining: 5.17s\n",
      "67:\tlearn: 0.4664938\ttotal: 811ms\tremaining: 5.15s\n",
      "68:\tlearn: 0.4650415\ttotal: 821ms\tremaining: 5.13s\n",
      "69:\tlearn: 0.4634810\ttotal: 830ms\tremaining: 5.1s\n",
      "70:\tlearn: 0.4612941\ttotal: 840ms\tremaining: 5.07s\n",
      "71:\tlearn: 0.4598327\ttotal: 851ms\tremaining: 5.06s\n",
      "72:\tlearn: 0.4587065\ttotal: 861ms\tremaining: 5.04s\n",
      "73:\tlearn: 0.4569371\ttotal: 873ms\tremaining: 5.03s\n",
      "74:\tlearn: 0.4557428\ttotal: 883ms\tremaining: 5s\n",
      "75:\tlearn: 0.4546880\ttotal: 892ms\tremaining: 4.98s\n",
      "76:\tlearn: 0.4535609\ttotal: 901ms\tremaining: 4.95s\n",
      "77:\tlearn: 0.4524767\ttotal: 910ms\tremaining: 4.92s\n",
      "78:\tlearn: 0.4510699\ttotal: 918ms\tremaining: 4.89s\n",
      "79:\tlearn: 0.4501138\ttotal: 927ms\tremaining: 4.86s\n",
      "80:\tlearn: 0.4486838\ttotal: 935ms\tremaining: 4.84s\n",
      "81:\tlearn: 0.4469202\ttotal: 944ms\tremaining: 4.81s\n",
      "82:\tlearn: 0.4459446\ttotal: 953ms\tremaining: 4.79s\n",
      "83:\tlearn: 0.4451807\ttotal: 962ms\tremaining: 4.76s\n",
      "84:\tlearn: 0.4435667\ttotal: 971ms\tremaining: 4.74s\n",
      "85:\tlearn: 0.4421861\ttotal: 979ms\tremaining: 4.71s\n",
      "86:\tlearn: 0.4411053\ttotal: 987ms\tremaining: 4.69s\n",
      "87:\tlearn: 0.4402556\ttotal: 996ms\tremaining: 4.66s\n",
      "88:\tlearn: 0.4391606\ttotal: 1s\tremaining: 4.64s\n",
      "89:\tlearn: 0.4384405\ttotal: 1.01s\tremaining: 4.62s\n",
      "90:\tlearn: 0.4366309\ttotal: 1.02s\tremaining: 4.61s\n",
      "91:\tlearn: 0.4354823\ttotal: 1.03s\tremaining: 4.59s\n",
      "92:\tlearn: 0.4344612\ttotal: 1.04s\tremaining: 4.57s\n",
      "93:\tlearn: 0.4331630\ttotal: 1.05s\tremaining: 4.56s\n",
      "94:\tlearn: 0.4321380\ttotal: 1.07s\tremaining: 4.55s\n",
      "95:\tlearn: 0.4311322\ttotal: 1.09s\tremaining: 4.57s\n",
      "96:\tlearn: 0.4300382\ttotal: 1.09s\tremaining: 4.55s\n",
      "97:\tlearn: 0.4288536\ttotal: 1.1s\tremaining: 4.53s\n",
      "98:\tlearn: 0.4278807\ttotal: 1.11s\tremaining: 4.51s\n",
      "99:\tlearn: 0.4270651\ttotal: 1.12s\tremaining: 4.49s\n",
      "100:\tlearn: 0.4256734\ttotal: 1.15s\tremaining: 4.53s\n",
      "101:\tlearn: 0.4239247\ttotal: 1.16s\tremaining: 4.51s\n",
      "102:\tlearn: 0.4231912\ttotal: 1.17s\tremaining: 4.49s\n",
      "103:\tlearn: 0.4218111\ttotal: 1.18s\tremaining: 4.48s\n",
      "104:\tlearn: 0.4210980\ttotal: 1.19s\tremaining: 4.46s\n",
      "105:\tlearn: 0.4194569\ttotal: 1.19s\tremaining: 4.44s\n",
      "106:\tlearn: 0.4186746\ttotal: 1.2s\tremaining: 4.42s\n",
      "107:\tlearn: 0.4179352\ttotal: 1.21s\tremaining: 4.4s\n",
      "108:\tlearn: 0.4164894\ttotal: 1.22s\tremaining: 4.38s\n",
      "109:\tlearn: 0.4159064\ttotal: 1.23s\tremaining: 4.37s\n",
      "110:\tlearn: 0.4142745\ttotal: 1.24s\tremaining: 4.35s\n",
      "111:\tlearn: 0.4133212\ttotal: 1.25s\tremaining: 4.34s\n",
      "112:\tlearn: 0.4126374\ttotal: 1.28s\tremaining: 4.38s\n",
      "113:\tlearn: 0.4120869\ttotal: 1.29s\tremaining: 4.36s\n",
      "114:\tlearn: 0.4112550\ttotal: 1.3s\tremaining: 4.34s\n",
      "115:\tlearn: 0.4106663\ttotal: 1.31s\tremaining: 4.33s\n",
      "116:\tlearn: 0.4093917\ttotal: 1.31s\tremaining: 4.3s\n",
      "117:\tlearn: 0.4084600\ttotal: 1.32s\tremaining: 4.29s\n",
      "118:\tlearn: 0.4074622\ttotal: 1.33s\tremaining: 4.27s\n",
      "119:\tlearn: 0.4064687\ttotal: 1.34s\tremaining: 4.25s\n",
      "120:\tlearn: 0.4052093\ttotal: 1.35s\tremaining: 4.23s\n",
      "121:\tlearn: 0.4042283\ttotal: 1.36s\tremaining: 4.21s\n",
      "122:\tlearn: 0.4034165\ttotal: 1.37s\tremaining: 4.19s\n",
      "123:\tlearn: 0.4026757\ttotal: 1.38s\tremaining: 4.17s\n",
      "124:\tlearn: 0.4020267\ttotal: 1.38s\tremaining: 4.15s\n",
      "125:\tlearn: 0.4015707\ttotal: 1.39s\tremaining: 4.13s\n",
      "126:\tlearn: 0.4001950\ttotal: 1.4s\tremaining: 4.12s\n",
      "127:\tlearn: 0.3993423\ttotal: 1.41s\tremaining: 4.1s\n",
      "128:\tlearn: 0.3980925\ttotal: 1.42s\tremaining: 4.09s\n",
      "129:\tlearn: 0.3972186\ttotal: 1.43s\tremaining: 4.07s\n",
      "130:\tlearn: 0.3966294\ttotal: 1.44s\tremaining: 4.06s\n",
      "131:\tlearn: 0.3952335\ttotal: 1.45s\tremaining: 4.05s\n",
      "132:\tlearn: 0.3936351\ttotal: 1.46s\tremaining: 4.04s\n",
      "133:\tlearn: 0.3930342\ttotal: 1.48s\tremaining: 4.03s\n",
      "134:\tlearn: 0.3920898\ttotal: 1.49s\tremaining: 4.02s\n",
      "135:\tlearn: 0.3912868\ttotal: 1.5s\tremaining: 4s\n",
      "136:\tlearn: 0.3900697\ttotal: 1.5s\tremaining: 3.99s\n",
      "137:\tlearn: 0.3893135\ttotal: 1.51s\tremaining: 3.98s\n",
      "138:\tlearn: 0.3878909\ttotal: 1.52s\tremaining: 3.96s\n",
      "139:\tlearn: 0.3875069\ttotal: 1.53s\tremaining: 3.94s\n",
      "140:\tlearn: 0.3868004\ttotal: 1.54s\tremaining: 3.93s\n",
      "141:\tlearn: 0.3860981\ttotal: 1.55s\tremaining: 3.91s\n",
      "142:\tlearn: 0.3855138\ttotal: 1.56s\tremaining: 3.9s\n",
      "143:\tlearn: 0.3843398\ttotal: 1.57s\tremaining: 3.88s\n",
      "144:\tlearn: 0.3836440\ttotal: 1.58s\tremaining: 3.87s\n",
      "145:\tlearn: 0.3826741\ttotal: 1.59s\tremaining: 3.85s\n",
      "146:\tlearn: 0.3820644\ttotal: 1.6s\tremaining: 3.84s\n",
      "147:\tlearn: 0.3814471\ttotal: 1.61s\tremaining: 3.82s\n",
      "148:\tlearn: 0.3807326\ttotal: 1.61s\tremaining: 3.81s\n",
      "149:\tlearn: 0.3794489\ttotal: 1.62s\tremaining: 3.79s\n",
      "150:\tlearn: 0.3790982\ttotal: 1.64s\tremaining: 3.78s\n",
      "151:\tlearn: 0.3786613\ttotal: 1.65s\tremaining: 3.77s\n",
      "152:\tlearn: 0.3778418\ttotal: 1.66s\tremaining: 3.76s\n",
      "153:\tlearn: 0.3772959\ttotal: 1.67s\tremaining: 3.75s\n",
      "154:\tlearn: 0.3767424\ttotal: 1.69s\tremaining: 3.75s\n",
      "155:\tlearn: 0.3760078\ttotal: 1.7s\tremaining: 3.74s\n",
      "156:\tlearn: 0.3756153\ttotal: 1.71s\tremaining: 3.73s\n",
      "157:\tlearn: 0.3749307\ttotal: 1.72s\tremaining: 3.71s\n",
      "158:\tlearn: 0.3744899\ttotal: 1.73s\tremaining: 3.7s\n",
      "159:\tlearn: 0.3740885\ttotal: 1.73s\tremaining: 3.69s\n",
      "160:\tlearn: 0.3732768\ttotal: 1.74s\tremaining: 3.67s\n",
      "161:\tlearn: 0.3730072\ttotal: 1.75s\tremaining: 3.66s\n",
      "162:\tlearn: 0.3722675\ttotal: 1.76s\tremaining: 3.64s\n",
      "163:\tlearn: 0.3716858\ttotal: 1.77s\tremaining: 3.63s\n",
      "164:\tlearn: 0.3711907\ttotal: 1.78s\tremaining: 3.62s\n",
      "165:\tlearn: 0.3707276\ttotal: 1.79s\tremaining: 3.6s\n",
      "166:\tlearn: 0.3701513\ttotal: 1.8s\tremaining: 3.59s\n",
      "167:\tlearn: 0.3692169\ttotal: 1.81s\tremaining: 3.58s\n",
      "168:\tlearn: 0.3682851\ttotal: 1.82s\tremaining: 3.56s\n",
      "169:\tlearn: 0.3678541\ttotal: 1.83s\tremaining: 3.55s\n",
      "170:\tlearn: 0.3675001\ttotal: 1.84s\tremaining: 3.54s\n",
      "171:\tlearn: 0.3668275\ttotal: 1.85s\tremaining: 3.53s\n",
      "172:\tlearn: 0.3663932\ttotal: 1.86s\tremaining: 3.52s\n",
      "173:\tlearn: 0.3660392\ttotal: 1.87s\tremaining: 3.51s\n",
      "174:\tlearn: 0.3653425\ttotal: 1.88s\tremaining: 3.5s\n",
      "175:\tlearn: 0.3648148\ttotal: 1.89s\tremaining: 3.48s\n",
      "176:\tlearn: 0.3642871\ttotal: 1.9s\tremaining: 3.47s\n",
      "177:\tlearn: 0.3637008\ttotal: 1.91s\tremaining: 3.46s\n",
      "178:\tlearn: 0.3627687\ttotal: 1.92s\tremaining: 3.45s\n",
      "179:\tlearn: 0.3623885\ttotal: 1.93s\tremaining: 3.44s\n",
      "180:\tlearn: 0.3617023\ttotal: 1.94s\tremaining: 3.42s\n",
      "181:\tlearn: 0.3613052\ttotal: 1.95s\tremaining: 3.41s\n",
      "182:\tlearn: 0.3605095\ttotal: 1.96s\tremaining: 3.39s\n",
      "183:\tlearn: 0.3601052\ttotal: 1.97s\tremaining: 3.38s\n",
      "184:\tlearn: 0.3595431\ttotal: 1.98s\tremaining: 3.37s\n",
      "185:\tlearn: 0.3590437\ttotal: 1.98s\tremaining: 3.35s\n",
      "186:\tlearn: 0.3586225\ttotal: 1.99s\tremaining: 3.34s\n",
      "187:\tlearn: 0.3581536\ttotal: 2s\tremaining: 3.32s\n",
      "188:\tlearn: 0.3579195\ttotal: 2.01s\tremaining: 3.31s\n",
      "189:\tlearn: 0.3573366\ttotal: 2.02s\tremaining: 3.29s\n",
      "190:\tlearn: 0.3566495\ttotal: 2.03s\tremaining: 3.28s\n",
      "191:\tlearn: 0.3562101\ttotal: 2.04s\tremaining: 3.27s\n",
      "192:\tlearn: 0.3559435\ttotal: 2.05s\tremaining: 3.26s\n",
      "193:\tlearn: 0.3547778\ttotal: 2.06s\tremaining: 3.25s\n",
      "194:\tlearn: 0.3540171\ttotal: 2.07s\tremaining: 3.24s\n",
      "195:\tlearn: 0.3535950\ttotal: 2.08s\tremaining: 3.23s\n",
      "196:\tlearn: 0.3531641\ttotal: 2.09s\tremaining: 3.22s\n",
      "197:\tlearn: 0.3525605\ttotal: 2.1s\tremaining: 3.21s\n",
      "198:\tlearn: 0.3520840\ttotal: 2.11s\tremaining: 3.19s\n",
      "199:\tlearn: 0.3516350\ttotal: 2.12s\tremaining: 3.18s\n",
      "200:\tlearn: 0.3512417\ttotal: 2.13s\tremaining: 3.16s\n",
      "201:\tlearn: 0.3503493\ttotal: 2.14s\tremaining: 3.15s\n",
      "202:\tlearn: 0.3494609\ttotal: 2.15s\tremaining: 3.14s\n",
      "203:\tlearn: 0.3488616\ttotal: 2.15s\tremaining: 3.13s\n",
      "204:\tlearn: 0.3482881\ttotal: 2.16s\tremaining: 3.11s\n",
      "205:\tlearn: 0.3472965\ttotal: 2.17s\tremaining: 3.1s\n",
      "206:\tlearn: 0.3464322\ttotal: 2.18s\tremaining: 3.09s\n",
      "207:\tlearn: 0.3456708\ttotal: 2.19s\tremaining: 3.08s\n",
      "208:\tlearn: 0.3452010\ttotal: 2.2s\tremaining: 3.06s\n",
      "209:\tlearn: 0.3447163\ttotal: 2.21s\tremaining: 3.05s\n",
      "210:\tlearn: 0.3437176\ttotal: 2.22s\tremaining: 3.04s\n",
      "211:\tlearn: 0.3427035\ttotal: 2.23s\tremaining: 3.02s\n",
      "212:\tlearn: 0.3419308\ttotal: 2.24s\tremaining: 3.01s\n",
      "213:\tlearn: 0.3414093\ttotal: 2.25s\tremaining: 3s\n",
      "214:\tlearn: 0.3406793\ttotal: 2.26s\tremaining: 2.99s\n",
      "215:\tlearn: 0.3399601\ttotal: 2.27s\tremaining: 2.98s\n",
      "216:\tlearn: 0.3392759\ttotal: 2.28s\tremaining: 2.97s\n",
      "217:\tlearn: 0.3386024\ttotal: 2.29s\tremaining: 2.96s\n",
      "218:\tlearn: 0.3382337\ttotal: 2.3s\tremaining: 2.95s\n",
      "219:\tlearn: 0.3379414\ttotal: 2.31s\tremaining: 2.94s\n",
      "220:\tlearn: 0.3371058\ttotal: 2.32s\tremaining: 2.93s\n",
      "221:\tlearn: 0.3367388\ttotal: 2.33s\tremaining: 2.92s\n",
      "222:\tlearn: 0.3363845\ttotal: 2.34s\tremaining: 2.9s\n",
      "223:\tlearn: 0.3359223\ttotal: 2.35s\tremaining: 2.89s\n",
      "224:\tlearn: 0.3355565\ttotal: 2.35s\tremaining: 2.88s\n",
      "225:\tlearn: 0.3352038\ttotal: 2.36s\tremaining: 2.87s\n",
      "226:\tlearn: 0.3344432\ttotal: 2.37s\tremaining: 2.85s\n",
      "227:\tlearn: 0.3338747\ttotal: 2.38s\tremaining: 2.84s\n",
      "228:\tlearn: 0.3324901\ttotal: 2.39s\tremaining: 2.83s\n",
      "229:\tlearn: 0.3319319\ttotal: 2.4s\tremaining: 2.81s\n",
      "230:\tlearn: 0.3314717\ttotal: 2.41s\tremaining: 2.8s\n",
      "231:\tlearn: 0.3309008\ttotal: 2.42s\tremaining: 2.79s\n",
      "232:\tlearn: 0.3304545\ttotal: 2.42s\tremaining: 2.78s\n",
      "233:\tlearn: 0.3296208\ttotal: 2.46s\tremaining: 2.8s\n",
      "234:\tlearn: 0.3292884\ttotal: 2.48s\tremaining: 2.79s\n",
      "235:\tlearn: 0.3286286\ttotal: 2.48s\tremaining: 2.78s\n",
      "236:\tlearn: 0.3280645\ttotal: 2.5s\tremaining: 2.77s\n",
      "237:\tlearn: 0.3275207\ttotal: 2.51s\tremaining: 2.76s\n",
      "238:\tlearn: 0.3269370\ttotal: 2.52s\tremaining: 2.75s\n",
      "239:\tlearn: 0.3264967\ttotal: 2.52s\tremaining: 2.73s\n",
      "240:\tlearn: 0.3258263\ttotal: 2.53s\tremaining: 2.72s\n",
      "241:\tlearn: 0.3255061\ttotal: 2.54s\tremaining: 2.71s\n",
      "242:\tlearn: 0.3251880\ttotal: 2.55s\tremaining: 2.7s\n",
      "243:\tlearn: 0.3246414\ttotal: 2.56s\tremaining: 2.68s\n",
      "244:\tlearn: 0.3241662\ttotal: 2.57s\tremaining: 2.67s\n",
      "245:\tlearn: 0.3234510\ttotal: 2.58s\tremaining: 2.66s\n",
      "246:\tlearn: 0.3229967\ttotal: 2.58s\tremaining: 2.65s\n",
      "247:\tlearn: 0.3223670\ttotal: 2.59s\tremaining: 2.63s\n",
      "248:\tlearn: 0.3220381\ttotal: 2.6s\tremaining: 2.62s\n",
      "249:\tlearn: 0.3213867\ttotal: 2.61s\tremaining: 2.61s\n",
      "250:\tlearn: 0.3210667\ttotal: 2.62s\tremaining: 2.6s\n",
      "251:\tlearn: 0.3206741\ttotal: 2.63s\tremaining: 2.58s\n",
      "252:\tlearn: 0.3202889\ttotal: 2.63s\tremaining: 2.57s\n",
      "253:\tlearn: 0.3199581\ttotal: 2.64s\tremaining: 2.56s\n",
      "254:\tlearn: 0.3193590\ttotal: 2.65s\tremaining: 2.55s\n",
      "255:\tlearn: 0.3188382\ttotal: 2.66s\tremaining: 2.54s\n",
      "256:\tlearn: 0.3183282\ttotal: 2.67s\tremaining: 2.52s\n",
      "257:\tlearn: 0.3179498\ttotal: 2.68s\tremaining: 2.51s\n",
      "258:\tlearn: 0.3174414\ttotal: 2.69s\tremaining: 2.5s\n",
      "259:\tlearn: 0.3167716\ttotal: 2.7s\tremaining: 2.49s\n",
      "260:\tlearn: 0.3164808\ttotal: 2.71s\tremaining: 2.48s\n",
      "261:\tlearn: 0.3161648\ttotal: 2.72s\tremaining: 2.47s\n",
      "262:\tlearn: 0.3159122\ttotal: 2.73s\tremaining: 2.46s\n",
      "263:\tlearn: 0.3156738\ttotal: 2.74s\tremaining: 2.45s\n",
      "264:\tlearn: 0.3147093\ttotal: 2.75s\tremaining: 2.44s\n",
      "265:\tlearn: 0.3143795\ttotal: 2.76s\tremaining: 2.43s\n",
      "266:\tlearn: 0.3139218\ttotal: 2.77s\tremaining: 2.41s\n",
      "267:\tlearn: 0.3131475\ttotal: 2.77s\tremaining: 2.4s\n",
      "268:\tlearn: 0.3126715\ttotal: 2.78s\tremaining: 2.39s\n",
      "269:\tlearn: 0.3123717\ttotal: 2.79s\tremaining: 2.38s\n",
      "270:\tlearn: 0.3119298\ttotal: 2.8s\tremaining: 2.37s\n",
      "271:\tlearn: 0.3114192\ttotal: 2.81s\tremaining: 2.35s\n",
      "272:\tlearn: 0.3110880\ttotal: 2.82s\tremaining: 2.34s\n",
      "273:\tlearn: 0.3105110\ttotal: 2.83s\tremaining: 2.33s\n",
      "274:\tlearn: 0.3100438\ttotal: 2.83s\tremaining: 2.32s\n",
      "275:\tlearn: 0.3095743\ttotal: 2.85s\tremaining: 2.31s\n",
      "276:\tlearn: 0.3092201\ttotal: 2.85s\tremaining: 2.3s\n",
      "277:\tlearn: 0.3086641\ttotal: 2.86s\tremaining: 2.29s\n",
      "278:\tlearn: 0.3083455\ttotal: 2.87s\tremaining: 2.27s\n",
      "279:\tlearn: 0.3080466\ttotal: 2.88s\tremaining: 2.26s\n",
      "280:\tlearn: 0.3077415\ttotal: 2.89s\tremaining: 2.25s\n",
      "281:\tlearn: 0.3072203\ttotal: 2.9s\tremaining: 2.24s\n",
      "282:\tlearn: 0.3068279\ttotal: 2.91s\tremaining: 2.23s\n",
      "283:\tlearn: 0.3062462\ttotal: 2.92s\tremaining: 2.22s\n",
      "284:\tlearn: 0.3058515\ttotal: 2.93s\tremaining: 2.21s\n",
      "285:\tlearn: 0.3055192\ttotal: 2.94s\tremaining: 2.2s\n",
      "286:\tlearn: 0.3052359\ttotal: 2.95s\tremaining: 2.19s\n",
      "287:\tlearn: 0.3049759\ttotal: 2.96s\tremaining: 2.18s\n",
      "288:\tlearn: 0.3046512\ttotal: 2.97s\tremaining: 2.17s\n",
      "289:\tlearn: 0.3042890\ttotal: 2.98s\tremaining: 2.16s\n",
      "290:\tlearn: 0.3039048\ttotal: 2.99s\tremaining: 2.15s\n",
      "291:\tlearn: 0.3032575\ttotal: 3s\tremaining: 2.13s\n",
      "292:\tlearn: 0.3029141\ttotal: 3.01s\tremaining: 2.12s\n",
      "293:\tlearn: 0.3024435\ttotal: 3.02s\tremaining: 2.11s\n",
      "294:\tlearn: 0.3021078\ttotal: 3.02s\tremaining: 2.1s\n",
      "295:\tlearn: 0.3016827\ttotal: 3.03s\tremaining: 2.09s\n",
      "296:\tlearn: 0.3014297\ttotal: 3.04s\tremaining: 2.08s\n",
      "297:\tlearn: 0.3011469\ttotal: 3.05s\tremaining: 2.07s\n",
      "298:\tlearn: 0.3007869\ttotal: 3.06s\tremaining: 2.06s\n",
      "299:\tlearn: 0.3004292\ttotal: 3.07s\tremaining: 2.05s\n",
      "300:\tlearn: 0.2997497\ttotal: 3.08s\tremaining: 2.04s\n",
      "301:\tlearn: 0.2993835\ttotal: 3.09s\tremaining: 2.03s\n",
      "302:\tlearn: 0.2989861\ttotal: 3.1s\tremaining: 2.02s\n",
      "303:\tlearn: 0.2984303\ttotal: 3.11s\tremaining: 2.01s\n",
      "304:\tlearn: 0.2979248\ttotal: 3.13s\tremaining: 2s\n",
      "305:\tlearn: 0.2976121\ttotal: 3.14s\tremaining: 1.99s\n",
      "306:\tlearn: 0.2972869\ttotal: 3.15s\tremaining: 1.98s\n",
      "307:\tlearn: 0.2968971\ttotal: 3.16s\tremaining: 1.97s\n",
      "308:\tlearn: 0.2963906\ttotal: 3.17s\tremaining: 1.96s\n",
      "309:\tlearn: 0.2960276\ttotal: 3.17s\tremaining: 1.95s\n",
      "310:\tlearn: 0.2958603\ttotal: 3.19s\tremaining: 1.94s\n",
      "311:\tlearn: 0.2954712\ttotal: 3.19s\tremaining: 1.93s\n",
      "312:\tlearn: 0.2949310\ttotal: 3.21s\tremaining: 1.91s\n",
      "313:\tlearn: 0.2946032\ttotal: 3.21s\tremaining: 1.9s\n",
      "314:\tlearn: 0.2940853\ttotal: 3.22s\tremaining: 1.89s\n",
      "315:\tlearn: 0.2938711\ttotal: 3.23s\tremaining: 1.88s\n",
      "316:\tlearn: 0.2930430\ttotal: 3.24s\tremaining: 1.87s\n",
      "317:\tlearn: 0.2926365\ttotal: 3.25s\tremaining: 1.86s\n",
      "318:\tlearn: 0.2921517\ttotal: 3.26s\tremaining: 1.85s\n",
      "319:\tlearn: 0.2918152\ttotal: 3.27s\tremaining: 1.84s\n",
      "320:\tlearn: 0.2913777\ttotal: 3.28s\tremaining: 1.83s\n",
      "321:\tlearn: 0.2911737\ttotal: 3.29s\tremaining: 1.82s\n",
      "322:\tlearn: 0.2907971\ttotal: 3.3s\tremaining: 1.81s\n",
      "323:\tlearn: 0.2898731\ttotal: 3.31s\tremaining: 1.8s\n",
      "324:\tlearn: 0.2894038\ttotal: 3.32s\tremaining: 1.79s\n",
      "325:\tlearn: 0.2890733\ttotal: 3.33s\tremaining: 1.78s\n",
      "326:\tlearn: 0.2887949\ttotal: 3.35s\tremaining: 1.77s\n",
      "327:\tlearn: 0.2882939\ttotal: 3.35s\tremaining: 1.76s\n",
      "328:\tlearn: 0.2879401\ttotal: 3.36s\tremaining: 1.75s\n",
      "329:\tlearn: 0.2878238\ttotal: 3.37s\tremaining: 1.74s\n",
      "330:\tlearn: 0.2873848\ttotal: 3.38s\tremaining: 1.73s\n",
      "331:\tlearn: 0.2868384\ttotal: 3.39s\tremaining: 1.72s\n",
      "332:\tlearn: 0.2861405\ttotal: 3.4s\tremaining: 1.7s\n",
      "333:\tlearn: 0.2856607\ttotal: 3.41s\tremaining: 1.69s\n",
      "334:\tlearn: 0.2847699\ttotal: 3.42s\tremaining: 1.68s\n",
      "335:\tlearn: 0.2845594\ttotal: 3.42s\tremaining: 1.67s\n",
      "336:\tlearn: 0.2841645\ttotal: 3.43s\tremaining: 1.66s\n",
      "337:\tlearn: 0.2839650\ttotal: 3.44s\tremaining: 1.65s\n",
      "338:\tlearn: 0.2834109\ttotal: 3.45s\tremaining: 1.64s\n",
      "339:\tlearn: 0.2828579\ttotal: 3.46s\tremaining: 1.63s\n",
      "340:\tlearn: 0.2823398\ttotal: 3.47s\tremaining: 1.62s\n",
      "341:\tlearn: 0.2818933\ttotal: 3.48s\tremaining: 1.61s\n",
      "342:\tlearn: 0.2814986\ttotal: 3.49s\tremaining: 1.59s\n",
      "343:\tlearn: 0.2810647\ttotal: 3.5s\tremaining: 1.58s\n",
      "344:\tlearn: 0.2807492\ttotal: 3.51s\tremaining: 1.57s\n",
      "345:\tlearn: 0.2802526\ttotal: 3.52s\tremaining: 1.56s\n",
      "346:\tlearn: 0.2798846\ttotal: 3.52s\tremaining: 1.55s\n",
      "347:\tlearn: 0.2791347\ttotal: 3.54s\tremaining: 1.54s\n",
      "348:\tlearn: 0.2785505\ttotal: 3.55s\tremaining: 1.53s\n",
      "349:\tlearn: 0.2781642\ttotal: 3.56s\tremaining: 1.52s\n",
      "350:\tlearn: 0.2776561\ttotal: 3.56s\tremaining: 1.51s\n",
      "351:\tlearn: 0.2771437\ttotal: 3.57s\tremaining: 1.5s\n",
      "352:\tlearn: 0.2766633\ttotal: 3.58s\tremaining: 1.49s\n",
      "353:\tlearn: 0.2760220\ttotal: 3.59s\tremaining: 1.48s\n",
      "354:\tlearn: 0.2755868\ttotal: 3.6s\tremaining: 1.47s\n",
      "355:\tlearn: 0.2751649\ttotal: 3.61s\tremaining: 1.46s\n",
      "356:\tlearn: 0.2744683\ttotal: 3.62s\tremaining: 1.45s\n",
      "357:\tlearn: 0.2742558\ttotal: 3.63s\tremaining: 1.44s\n",
      "358:\tlearn: 0.2738278\ttotal: 3.63s\tremaining: 1.43s\n",
      "359:\tlearn: 0.2731091\ttotal: 3.64s\tremaining: 1.42s\n",
      "360:\tlearn: 0.2728080\ttotal: 3.65s\tremaining: 1.41s\n",
      "361:\tlearn: 0.2722407\ttotal: 3.66s\tremaining: 1.39s\n",
      "362:\tlearn: 0.2714756\ttotal: 3.67s\tremaining: 1.38s\n",
      "363:\tlearn: 0.2710508\ttotal: 3.68s\tremaining: 1.37s\n",
      "364:\tlearn: 0.2707591\ttotal: 3.69s\tremaining: 1.36s\n",
      "365:\tlearn: 0.2704622\ttotal: 3.7s\tremaining: 1.35s\n",
      "366:\tlearn: 0.2700623\ttotal: 3.71s\tremaining: 1.34s\n",
      "367:\tlearn: 0.2695901\ttotal: 3.72s\tremaining: 1.33s\n",
      "368:\tlearn: 0.2691730\ttotal: 3.73s\tremaining: 1.32s\n",
      "369:\tlearn: 0.2687167\ttotal: 3.74s\tremaining: 1.31s\n",
      "370:\tlearn: 0.2683446\ttotal: 3.75s\tremaining: 1.3s\n",
      "371:\tlearn: 0.2679348\ttotal: 3.76s\tremaining: 1.29s\n",
      "372:\tlearn: 0.2672847\ttotal: 3.77s\tremaining: 1.28s\n",
      "373:\tlearn: 0.2668082\ttotal: 3.78s\tremaining: 1.27s\n",
      "374:\tlearn: 0.2664960\ttotal: 3.79s\tremaining: 1.26s\n",
      "375:\tlearn: 0.2659860\ttotal: 3.8s\tremaining: 1.25s\n",
      "376:\tlearn: 0.2657033\ttotal: 3.81s\tremaining: 1.24s\n",
      "377:\tlearn: 0.2652281\ttotal: 3.82s\tremaining: 1.23s\n",
      "378:\tlearn: 0.2646546\ttotal: 3.83s\tremaining: 1.22s\n",
      "379:\tlearn: 0.2645148\ttotal: 3.84s\tremaining: 1.21s\n",
      "380:\tlearn: 0.2642196\ttotal: 3.85s\tremaining: 1.2s\n",
      "381:\tlearn: 0.2636344\ttotal: 3.86s\tremaining: 1.19s\n",
      "382:\tlearn: 0.2632559\ttotal: 3.87s\tremaining: 1.18s\n",
      "383:\tlearn: 0.2627578\ttotal: 3.88s\tremaining: 1.17s\n",
      "384:\tlearn: 0.2622477\ttotal: 3.9s\tremaining: 1.16s\n",
      "385:\tlearn: 0.2610957\ttotal: 3.91s\tremaining: 1.15s\n",
      "386:\tlearn: 0.2608930\ttotal: 3.92s\tremaining: 1.14s\n",
      "387:\tlearn: 0.2602468\ttotal: 3.93s\tremaining: 1.14s\n",
      "388:\tlearn: 0.2597880\ttotal: 3.94s\tremaining: 1.13s\n",
      "389:\tlearn: 0.2592416\ttotal: 3.95s\tremaining: 1.11s\n",
      "390:\tlearn: 0.2588672\ttotal: 3.96s\tremaining: 1.1s\n",
      "391:\tlearn: 0.2582480\ttotal: 3.97s\tremaining: 1.09s\n",
      "392:\tlearn: 0.2575259\ttotal: 3.98s\tremaining: 1.08s\n",
      "393:\tlearn: 0.2569867\ttotal: 3.99s\tremaining: 1.07s\n",
      "394:\tlearn: 0.2565466\ttotal: 4s\tremaining: 1.06s\n",
      "395:\tlearn: 0.2564492\ttotal: 4.01s\tremaining: 1.05s\n",
      "396:\tlearn: 0.2561041\ttotal: 4.02s\tremaining: 1.04s\n",
      "397:\tlearn: 0.2557854\ttotal: 4.03s\tremaining: 1.03s\n",
      "398:\tlearn: 0.2553482\ttotal: 4.03s\tremaining: 1.02s\n",
      "399:\tlearn: 0.2545622\ttotal: 4.04s\tremaining: 1.01s\n",
      "400:\tlearn: 0.2541647\ttotal: 4.05s\tremaining: 1s\n",
      "401:\tlearn: 0.2537509\ttotal: 4.06s\tremaining: 990ms\n",
      "402:\tlearn: 0.2535817\ttotal: 4.07s\tremaining: 980ms\n",
      "403:\tlearn: 0.2532857\ttotal: 4.08s\tremaining: 969ms\n",
      "404:\tlearn: 0.2531377\ttotal: 4.09s\tremaining: 959ms\n",
      "405:\tlearn: 0.2530336\ttotal: 4.1s\tremaining: 949ms\n",
      "406:\tlearn: 0.2523778\ttotal: 4.11s\tremaining: 939ms\n",
      "407:\tlearn: 0.2517755\ttotal: 4.12s\tremaining: 928ms\n",
      "408:\tlearn: 0.2517025\ttotal: 4.13s\tremaining: 918ms\n",
      "409:\tlearn: 0.2513446\ttotal: 4.14s\tremaining: 908ms\n",
      "410:\tlearn: 0.2502039\ttotal: 4.15s\tremaining: 899ms\n",
      "411:\tlearn: 0.2498346\ttotal: 4.16s\tremaining: 888ms\n",
      "412:\tlearn: 0.2497784\ttotal: 4.17s\tremaining: 878ms\n",
      "413:\tlearn: 0.2495542\ttotal: 4.18s\tremaining: 868ms\n",
      "414:\tlearn: 0.2494868\ttotal: 4.19s\tremaining: 857ms\n",
      "415:\tlearn: 0.2490726\ttotal: 4.2s\tremaining: 847ms\n",
      "416:\tlearn: 0.2489602\ttotal: 4.2s\tremaining: 837ms\n",
      "417:\tlearn: 0.2483662\ttotal: 4.21s\tremaining: 827ms\n",
      "418:\tlearn: 0.2477605\ttotal: 4.22s\tremaining: 816ms\n",
      "419:\tlearn: 0.2474351\ttotal: 4.23s\tremaining: 806ms\n",
      "420:\tlearn: 0.2469528\ttotal: 4.24s\tremaining: 796ms\n",
      "421:\tlearn: 0.2468755\ttotal: 4.25s\tremaining: 785ms\n",
      "422:\tlearn: 0.2463347\ttotal: 4.26s\tremaining: 775ms\n",
      "423:\tlearn: 0.2457478\ttotal: 4.27s\tremaining: 765ms\n",
      "424:\tlearn: 0.2449786\ttotal: 4.28s\tremaining: 754ms\n",
      "425:\tlearn: 0.2449244\ttotal: 4.28s\tremaining: 744ms\n",
      "426:\tlearn: 0.2442647\ttotal: 4.29s\tremaining: 734ms\n",
      "427:\tlearn: 0.2441339\ttotal: 4.3s\tremaining: 724ms\n",
      "428:\tlearn: 0.2432322\ttotal: 4.31s\tremaining: 714ms\n",
      "429:\tlearn: 0.2423803\ttotal: 4.32s\tremaining: 704ms\n",
      "430:\tlearn: 0.2421963\ttotal: 4.33s\tremaining: 694ms\n",
      "431:\tlearn: 0.2420066\ttotal: 4.34s\tremaining: 684ms\n",
      "432:\tlearn: 0.2417783\ttotal: 4.35s\tremaining: 674ms\n",
      "433:\tlearn: 0.2414484\ttotal: 4.36s\tremaining: 664ms\n",
      "434:\tlearn: 0.2407703\ttotal: 4.37s\tremaining: 654ms\n",
      "435:\tlearn: 0.2406773\ttotal: 4.38s\tremaining: 643ms\n",
      "436:\tlearn: 0.2402921\ttotal: 4.39s\tremaining: 633ms\n",
      "437:\tlearn: 0.2395954\ttotal: 4.4s\tremaining: 623ms\n",
      "438:\tlearn: 0.2392103\ttotal: 4.41s\tremaining: 613ms\n",
      "439:\tlearn: 0.2388393\ttotal: 4.42s\tremaining: 603ms\n",
      "440:\tlearn: 0.2383480\ttotal: 4.43s\tremaining: 593ms\n",
      "441:\tlearn: 0.2378976\ttotal: 4.44s\tremaining: 583ms\n",
      "442:\tlearn: 0.2378446\ttotal: 4.45s\tremaining: 573ms\n",
      "443:\tlearn: 0.2374349\ttotal: 4.46s\tremaining: 563ms\n",
      "444:\tlearn: 0.2369336\ttotal: 4.47s\tremaining: 553ms\n",
      "445:\tlearn: 0.2363471\ttotal: 4.48s\tremaining: 542ms\n",
      "446:\tlearn: 0.2360598\ttotal: 4.49s\tremaining: 532ms\n",
      "447:\tlearn: 0.2360056\ttotal: 4.5s\tremaining: 522ms\n",
      "448:\tlearn: 0.2353173\ttotal: 4.51s\tremaining: 512ms\n",
      "449:\tlearn: 0.2349874\ttotal: 4.52s\tremaining: 502ms\n",
      "450:\tlearn: 0.2344663\ttotal: 4.53s\tremaining: 492ms\n",
      "451:\tlearn: 0.2340016\ttotal: 4.54s\tremaining: 482ms\n",
      "452:\tlearn: 0.2334861\ttotal: 4.55s\tremaining: 472ms\n",
      "453:\tlearn: 0.2329621\ttotal: 4.56s\tremaining: 462ms\n",
      "454:\tlearn: 0.2328977\ttotal: 4.57s\tremaining: 452ms\n",
      "455:\tlearn: 0.2327201\ttotal: 4.58s\tremaining: 442ms\n",
      "456:\tlearn: 0.2326686\ttotal: 4.59s\tremaining: 432ms\n",
      "457:\tlearn: 0.2323301\ttotal: 4.6s\tremaining: 422ms\n",
      "458:\tlearn: 0.2317126\ttotal: 4.61s\tremaining: 412ms\n",
      "459:\tlearn: 0.2310462\ttotal: 4.62s\tremaining: 402ms\n",
      "460:\tlearn: 0.2309478\ttotal: 4.63s\tremaining: 391ms\n",
      "461:\tlearn: 0.2308932\ttotal: 4.63s\tremaining: 381ms\n",
      "462:\tlearn: 0.2308354\ttotal: 4.64s\tremaining: 371ms\n",
      "463:\tlearn: 0.2303840\ttotal: 4.65s\tremaining: 361ms\n",
      "464:\tlearn: 0.2300655\ttotal: 4.66s\tremaining: 351ms\n",
      "465:\tlearn: 0.2300000\ttotal: 4.67s\tremaining: 341ms\n",
      "466:\tlearn: 0.2291679\ttotal: 4.68s\tremaining: 331ms\n",
      "467:\tlearn: 0.2287316\ttotal: 4.69s\tremaining: 320ms\n",
      "468:\tlearn: 0.2281460\ttotal: 4.7s\tremaining: 310ms\n",
      "469:\tlearn: 0.2280593\ttotal: 4.71s\tremaining: 300ms\n",
      "470:\tlearn: 0.2276014\ttotal: 4.72s\tremaining: 290ms\n",
      "471:\tlearn: 0.2269477\ttotal: 4.73s\tremaining: 280ms\n",
      "472:\tlearn: 0.2263783\ttotal: 4.74s\tremaining: 270ms\n",
      "473:\tlearn: 0.2258318\ttotal: 4.75s\tremaining: 260ms\n",
      "474:\tlearn: 0.2257500\ttotal: 4.76s\tremaining: 250ms\n",
      "475:\tlearn: 0.2256933\ttotal: 4.77s\tremaining: 240ms\n",
      "476:\tlearn: 0.2250421\ttotal: 4.78s\tremaining: 230ms\n",
      "477:\tlearn: 0.2250008\ttotal: 4.79s\tremaining: 220ms\n",
      "478:\tlearn: 0.2246449\ttotal: 4.8s\tremaining: 210ms\n",
      "479:\tlearn: 0.2240502\ttotal: 4.81s\tremaining: 200ms\n",
      "480:\tlearn: 0.2234059\ttotal: 4.82s\tremaining: 190ms\n",
      "481:\tlearn: 0.2230271\ttotal: 4.83s\tremaining: 180ms\n",
      "482:\tlearn: 0.2227054\ttotal: 4.83s\tremaining: 170ms\n",
      "483:\tlearn: 0.2224114\ttotal: 4.84s\tremaining: 160ms\n",
      "484:\tlearn: 0.2220557\ttotal: 4.85s\tremaining: 150ms\n",
      "485:\tlearn: 0.2214309\ttotal: 4.86s\tremaining: 140ms\n",
      "486:\tlearn: 0.2211106\ttotal: 4.87s\tremaining: 130ms\n",
      "487:\tlearn: 0.2210505\ttotal: 4.88s\tremaining: 120ms\n",
      "488:\tlearn: 0.2209578\ttotal: 4.89s\tremaining: 110ms\n",
      "489:\tlearn: 0.2205145\ttotal: 4.9s\tremaining: 100ms\n",
      "490:\tlearn: 0.2203566\ttotal: 4.91s\tremaining: 90ms\n",
      "491:\tlearn: 0.2201457\ttotal: 4.92s\tremaining: 80ms\n",
      "492:\tlearn: 0.2195457\ttotal: 4.93s\tremaining: 70ms\n",
      "493:\tlearn: 0.2191635\ttotal: 4.94s\tremaining: 60ms\n",
      "494:\tlearn: 0.2191009\ttotal: 4.95s\tremaining: 50ms\n",
      "495:\tlearn: 0.2188759\ttotal: 4.96s\tremaining: 40ms\n",
      "496:\tlearn: 0.2186362\ttotal: 4.97s\tremaining: 30ms\n",
      "497:\tlearn: 0.2185437\ttotal: 5s\tremaining: 20.1ms\n",
      "498:\tlearn: 0.2180155\ttotal: 5s\tremaining: 10ms\n",
      "499:\tlearn: 0.2174746\ttotal: 5.02s\tremaining: 0us\n"
     ]
    }
   ],
   "source": [
    "from catboost import CatBoostClassifier\n",
    "\n",
    "training_model = TrainingModel(\n",
    "    model=CatBoostClassifier,\n",
    "    iterations=500\n",
    ")\n",
    "\n",
    "training_model.fit(train_dataset.x, train_dataset.y)"
   ],
   "metadata": {
    "collapsed": false,
    "ExecuteTime": {
     "end_time": "2024-03-13T16:09:11.272359200Z",
     "start_time": "2024-03-13T16:09:06.021541200Z"
    }
   },
   "id": "a78e0e4976c88d06"
  },
  {
   "cell_type": "code",
   "execution_count": 18,
   "outputs": [],
   "source": [
    "y_pred = training_model.predict(test_dataset.x)"
   ],
   "metadata": {
    "collapsed": false,
    "ExecuteTime": {
     "end_time": "2024-03-13T16:09:12.616300Z",
     "start_time": "2024-03-13T16:09:12.431914800Z"
    }
   },
   "id": "75e0e59105a51649"
  },
  {
   "cell_type": "code",
   "execution_count": 19,
   "outputs": [
    {
     "data": {
      "text/plain": "0.7987616099071208"
     },
     "execution_count": 19,
     "metadata": {},
     "output_type": "execute_result"
    }
   ],
   "source": [
    "accuracy_score(y_pred, test_dataset.y)"
   ],
   "metadata": {
    "collapsed": false,
    "ExecuteTime": {
     "end_time": "2024-03-13T16:09:13.242182700Z",
     "start_time": "2024-03-13T16:09:13.238178Z"
    }
   },
   "id": "2baaa2e2ba65aed5"
  },
  {
   "cell_type": "code",
   "execution_count": null,
   "outputs": [],
   "source": [],
   "metadata": {
    "collapsed": false
   },
   "id": "531c6b6c6974e92a"
  }
 ],
 "metadata": {
  "kernelspec": {
   "display_name": "Python 3",
   "language": "python",
   "name": "python3"
  },
  "language_info": {
   "codemirror_mode": {
    "name": "ipython",
    "version": 2
   },
   "file_extension": ".py",
   "mimetype": "text/x-python",
   "name": "python",
   "nbconvert_exporter": "python",
   "pygments_lexer": "ipython2",
   "version": "2.7.6"
  }
 },
 "nbformat": 4,
 "nbformat_minor": 5
}
