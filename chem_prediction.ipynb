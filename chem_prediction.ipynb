{
 "cells": [
  {
   "cell_type": "code",
   "execution_count": 1,
   "id": "initial_id",
   "metadata": {
    "collapsed": true,
    "ExecuteTime": {
     "end_time": "2024-02-19T09:04:01.211292600Z",
     "start_time": "2024-02-19T09:03:58.128927300Z"
    }
   },
   "outputs": [
    {
     "name": "stdout",
     "output_type": "stream",
     "text": [
      "Requirement already satisfied: rdkit in c:\\users\\maxim\\appdata\\local\\programs\\python\\python311\\lib\\site-packages (2023.9.1)\n",
      "Requirement already satisfied: numpy in c:\\users\\maxim\\appdata\\local\\programs\\python\\python311\\lib\\site-packages (from rdkit) (1.23.5)\n",
      "Requirement already satisfied: Pillow in c:\\users\\maxim\\appdata\\local\\programs\\python\\python311\\lib\\site-packages (from rdkit) (9.5.0)\n"
     ]
    },
    {
     "name": "stderr",
     "output_type": "stream",
     "text": [
      "\n",
      "[notice] A new release of pip is available: 23.3.2 -> 24.0\n",
      "[notice] To update, run: python.exe -m pip install --upgrade pip\n"
     ]
    }
   ],
   "source": [
    "!pip install rdkit"
   ]
  },
  {
   "cell_type": "code",
   "execution_count": 54,
   "outputs": [],
   "source": [
    "import typing\n",
    "import pandas as pd\n",
    "import numpy as np\n",
    "from rdkit import Chem\n",
    "from rdkit import DataStructs\n",
    "from rdkit.Chem import AllChem, Descriptors\n",
    "import torch\n",
    "from torch.utils.data import Dataset\n",
    "from sklearn.preprocessing import FunctionTransformer\n",
    "import warnings\n",
    "import random\n",
    "\n",
    "warnings.filterwarnings('ignore')"
   ],
   "metadata": {
    "collapsed": false,
    "ExecuteTime": {
     "end_time": "2024-02-21T16:50:27.021953700Z",
     "start_time": "2024-02-21T16:50:27.001768400Z"
    }
   },
   "id": "511ca0b0a376ab76"
  },
  {
   "cell_type": "code",
   "execution_count": 55,
   "outputs": [],
   "source": [
    "seed = 42\n",
    "torch.manual_seed(seed)\n",
    "np.random.seed(seed)\n",
    "random.seed(seed)\n",
    "torch.cuda.manual_seed(seed)\n",
    "torch.backends.cudnn.deterministic = True"
   ],
   "metadata": {
    "collapsed": false,
    "ExecuteTime": {
     "end_time": "2024-02-21T16:50:27.497235100Z",
     "start_time": "2024-02-21T16:50:27.472422900Z"
    }
   },
   "id": "c69123d95f420e37"
  },
  {
   "cell_type": "code",
   "execution_count": 2,
   "outputs": [
    {
     "data": {
      "text/plain": "         Title  IC50, mmg/ml  CC50-MDCK, mmg/ml          SI  Molecular weight  \\\n0  1007-Ya-213           2.7              500.0  185.185185           195.307   \n1  1007-Ya-213           0.7              447.0  638.571429           195.307   \n2  1008-Ya-187           9.9              144.0   14.545455           250.431   \n3  1009-As-106           8.3              500.0   60.240964           222.377   \n4  1010-Ya-208          39.4              143.0    3.629442           239.361   \n\n   Hydrogen bond acceptors  Hydrogen bond donors  Polar SA  \\\n0                        2                     1     32.59   \n1                        2                     1     32.59   \n2                        1                     0     15.60   \n3                        1                     0     15.60   \n4                        2                     0     29.54   \n\n                                         SMILES  Pictures  \n0           OCC\\N=C(\\[C@]12C)C[C@@H](C1(C)C)CC2      50.0  \n1           OCC\\N=C(\\[C@]12C)C[C@@H](C1(C)C)CC2      51.0  \n2     CCN(CC)CC\\N=C(\\[C@@]12C)C[C@H](C1(C)C)CC2      52.0  \n3       CN(C)CC\\N=C(\\[C@@]12C)C[C@H](C1(C)C)CC2      53.0  \n4  CN(C)CC(=O)O[C@H]1C[C@H](CC2)C(C)(C)[C@@]12C      54.0  ",
      "text/html": "<div>\n<style scoped>\n    .dataframe tbody tr th:only-of-type {\n        vertical-align: middle;\n    }\n\n    .dataframe tbody tr th {\n        vertical-align: top;\n    }\n\n    .dataframe thead th {\n        text-align: right;\n    }\n</style>\n<table border=\"1\" class=\"dataframe\">\n  <thead>\n    <tr style=\"text-align: right;\">\n      <th></th>\n      <th>Title</th>\n      <th>IC50, mmg/ml</th>\n      <th>CC50-MDCK, mmg/ml</th>\n      <th>SI</th>\n      <th>Molecular weight</th>\n      <th>Hydrogen bond acceptors</th>\n      <th>Hydrogen bond donors</th>\n      <th>Polar SA</th>\n      <th>SMILES</th>\n      <th>Pictures</th>\n    </tr>\n  </thead>\n  <tbody>\n    <tr>\n      <th>0</th>\n      <td>1007-Ya-213</td>\n      <td>2.7</td>\n      <td>500.0</td>\n      <td>185.185185</td>\n      <td>195.307</td>\n      <td>2</td>\n      <td>1</td>\n      <td>32.59</td>\n      <td>OCC\\N=C(\\[C@]12C)C[C@@H](C1(C)C)CC2</td>\n      <td>50.0</td>\n    </tr>\n    <tr>\n      <th>1</th>\n      <td>1007-Ya-213</td>\n      <td>0.7</td>\n      <td>447.0</td>\n      <td>638.571429</td>\n      <td>195.307</td>\n      <td>2</td>\n      <td>1</td>\n      <td>32.59</td>\n      <td>OCC\\N=C(\\[C@]12C)C[C@@H](C1(C)C)CC2</td>\n      <td>51.0</td>\n    </tr>\n    <tr>\n      <th>2</th>\n      <td>1008-Ya-187</td>\n      <td>9.9</td>\n      <td>144.0</td>\n      <td>14.545455</td>\n      <td>250.431</td>\n      <td>1</td>\n      <td>0</td>\n      <td>15.60</td>\n      <td>CCN(CC)CC\\N=C(\\[C@@]12C)C[C@H](C1(C)C)CC2</td>\n      <td>52.0</td>\n    </tr>\n    <tr>\n      <th>3</th>\n      <td>1009-As-106</td>\n      <td>8.3</td>\n      <td>500.0</td>\n      <td>60.240964</td>\n      <td>222.377</td>\n      <td>1</td>\n      <td>0</td>\n      <td>15.60</td>\n      <td>CN(C)CC\\N=C(\\[C@@]12C)C[C@H](C1(C)C)CC2</td>\n      <td>53.0</td>\n    </tr>\n    <tr>\n      <th>4</th>\n      <td>1010-Ya-208</td>\n      <td>39.4</td>\n      <td>143.0</td>\n      <td>3.629442</td>\n      <td>239.361</td>\n      <td>2</td>\n      <td>0</td>\n      <td>29.54</td>\n      <td>CN(C)CC(=O)O[C@H]1C[C@H](CC2)C(C)(C)[C@@]12C</td>\n      <td>54.0</td>\n    </tr>\n  </tbody>\n</table>\n</div>"
     },
     "execution_count": 2,
     "metadata": {},
     "output_type": "execute_result"
    }
   ],
   "source": [
    "data = pd.read_excel('data/All-1614.xlsx')\n",
    "data.head()"
   ],
   "metadata": {
    "collapsed": false,
    "ExecuteTime": {
     "end_time": "2024-02-21T15:22:31.551013400Z",
     "start_time": "2024-02-21T15:22:31.033774800Z"
    }
   },
   "id": "254d050169781209"
  },
  {
   "cell_type": "code",
   "execution_count": 3,
   "outputs": [],
   "source": [
    "data.rename(columns={'IC50, mmg/ml': 'IC50', 'CC50-MDCK, mmg/ml': 'CC50'}, inplace=True)"
   ],
   "metadata": {
    "collapsed": false,
    "ExecuteTime": {
     "end_time": "2024-02-21T15:22:31.563870600Z",
     "start_time": "2024-02-21T15:22:31.549602600Z"
    }
   },
   "id": "201f46c714597cda"
  },
  {
   "cell_type": "code",
   "execution_count": 4,
   "outputs": [],
   "source": [
    "def mol_dsc_calc(mols):\n",
    "    return pd.DataFrame({k: f(Chem.MolFromSmiles(m)) for k, f in descriptors.items()} for m in mols)\n",
    "\n",
    "\n",
    "# список конституционных и физико-химических дескрипторов из библиотеки RDKit\n",
    "descriptors = {\"HeavyAtomCount\": Descriptors.HeavyAtomCount,\n",
    "               \"NHOHCount\": Descriptors.NHOHCount,\n",
    "               \"NOCount\": Descriptors.NOCount,\n",
    "               \"NumHAcceptors\": Descriptors.NumHAcceptors,\n",
    "               \"NumHDonors\": Descriptors.NumHDonors,\n",
    "               \"NumHeteroatoms\": Descriptors.NumHeteroatoms,\n",
    "               \"NumRotatableBonds\": Descriptors.NumRotatableBonds,\n",
    "               \"NumValenceElectrons\": Descriptors.NumValenceElectrons,\n",
    "               \"NumAromaticRings\": Descriptors.NumAromaticRings,\n",
    "               \"NumAliphaticHeterocycles\": Descriptors.NumAliphaticHeterocycles,\n",
    "               \"RingCount\": Descriptors.RingCount,\n",
    "               \"MW\": Descriptors.MolWt,\n",
    "               \"LogP\": Descriptors.MolLogP,\n",
    "               \"MR\": Descriptors.MolMR,\n",
    "               \"TPSA\": Descriptors.TPSA}\n",
    "\n",
    "# sklearn трансформер для использования в конвейерном моделировании\n",
    "descriptors_transformer = FunctionTransformer(mol_dsc_calc)"
   ],
   "metadata": {
    "collapsed": false,
    "ExecuteTime": {
     "end_time": "2024-02-21T15:22:31.563870600Z",
     "start_time": "2024-02-21T15:22:31.556894300Z"
    }
   },
   "id": "bb0fe8db9627e52c"
  },
  {
   "cell_type": "code",
   "execution_count": 5,
   "outputs": [],
   "source": [
    "def rdkit_fp(smiles_column: pd.Series, radius=3, nBits=2048, useChirality=False):\n",
    "    # morganFP_rdkit\n",
    "    def desc_gen(mol):\n",
    "        mol = Chem.MolFromSmiles(mol)\n",
    "        bit_vec = np.zeros((1,), np.int16)\n",
    "        DataStructs.ConvertToNumpyArray(\n",
    "            AllChem.GetMorganFingerprintAsBitVect(mol, radius=radius, nBits=nBits, useChirality=useChirality), bit_vec)\n",
    "        return bit_vec\n",
    "\n",
    "    return pd.DataFrame.from_records(smiles_column.apply(func=desc_gen), columns=[f'bit_id_{i}' for i in range(nBits)])\n",
    "\n",
    "\n",
    "def rdkit_2d(smiles_column: pd.Series):\n",
    "    # 2d_rdkit\n",
    "    descriptors = {i[0]: i[1] for i in Descriptors._descList}\n",
    "    return pd.DataFrame({k: f(Chem.MolFromSmiles(m)) for k, f in descriptors.items()} for m in smiles_column)"
   ],
   "metadata": {
    "collapsed": false,
    "ExecuteTime": {
     "end_time": "2024-02-21T15:22:31.563870600Z",
     "start_time": "2024-02-21T15:22:31.563870600Z"
    }
   },
   "id": "af93fd5a9e68e941"
  },
  {
   "cell_type": "code",
   "execution_count": 6,
   "outputs": [],
   "source": [
    "from dataclasses import dataclass\n",
    "\n",
    "\n",
    "@dataclass\n",
    "class SMILESDescriptor:\n",
    "    descriptor: typing.Callable\n",
    "    title: typing.Optional[str] = None"
   ],
   "metadata": {
    "collapsed": false,
    "ExecuteTime": {
     "end_time": "2024-02-21T15:27:22.223807300Z",
     "start_time": "2024-02-21T15:27:22.216573100Z"
    }
   },
   "id": "2fde1b6f0406411d"
  },
  {
   "cell_type": "code",
   "execution_count": 26,
   "outputs": [],
   "source": [
    "class SMILESMolDataset(Dataset):\n",
    "    def __init__(\n",
    "            self,\n",
    "            *,\n",
    "            data: pd.DataFrame,\n",
    "            x_columns: typing.List[str],\n",
    "            y_columns: typing.List[str],\n",
    "            x_transform: typing.Optional[typing.Callable] = None,\n",
    "            y_transform: typing.Optional[typing.Callable] = None,\n",
    "            smiles_descriptors: typing.Optional[typing.Iterable[SMILESDescriptor]] = None\n",
    "    ):\n",
    "        self.data = data\n",
    "        self.x_columns = x_columns\n",
    "        self.y_columns = y_columns\n",
    "        self.x_transform = x_transform\n",
    "        self.y_transform = y_transform\n",
    "        self.smiles_descriptors = smiles_descriptors\n",
    "\n",
    "        self._descript_smiles()\n",
    "        self._separate_data()\n",
    "\n",
    "    def _descript_smiles(self):\n",
    "        if self.smiles_descriptors:\n",
    "            for d in self.smiles_descriptors:\n",
    "                d_data = d.descriptor(self.data['SMILES'])\n",
    "                self.data = self.data.join(d_data, lsuffix=d.title or '')\n",
    "\n",
    "    def _separate_data(self):\n",
    "        x = self.data[self.x_columns]\n",
    "        if self.x_transform:\n",
    "            for column in self.x_columns:\n",
    "                x[column] = x[column].apply(self.x_transform)\n",
    "        self.x = x\n",
    "\n",
    "        y = self.data[self.y_columns]\n",
    "        if self.y_transform:\n",
    "            for column in self.y_columns:\n",
    "                y[column] = y[column].apply(self.y_transform)\n",
    "        self.y = y\n",
    "\n",
    "    def columns(self):\n",
    "        return self.data.columns\n",
    "\n",
    "    def __len__(self):\n",
    "        return len(self.data)\n",
    "\n",
    "    def __getitem__(self, idx):\n",
    "        if torch.is_tensor(idx):\n",
    "            idx = idx.tolist()\n",
    "\n",
    "        return self.x.loc[idx].values, self.y.loc[idx].values"
   ],
   "metadata": {
    "collapsed": false,
    "ExecuteTime": {
     "end_time": "2024-02-21T16:01:40.887307500Z",
     "start_time": "2024-02-21T16:01:40.874193800Z"
    }
   },
   "id": "fe912fcccf9c19fa"
  },
  {
   "cell_type": "code",
   "execution_count": 62,
   "outputs": [],
   "source": [
    "train_data = data.sample(frac=0.8, random_state=seed)\n",
    "test_data = data.drop(train_data.index)\n",
    "\n",
    "train_data = train_data.reset_index(drop=True)\n",
    "test_data = test_data.reset_index(drop=True)"
   ],
   "metadata": {
    "collapsed": false,
    "ExecuteTime": {
     "end_time": "2024-02-21T17:03:43.694682300Z",
     "start_time": "2024-02-21T17:03:43.682596400Z"
    }
   },
   "id": "2c5ad6d8d1c00feb"
  },
  {
   "cell_type": "code",
   "execution_count": 63,
   "outputs": [],
   "source": [
    "dataset_args = {\n",
    "    'x_columns': ['IC50', 'SI', 'Molecular weight'],\n",
    "    'y_columns': ['CC50'],\n",
    "    'x_transform': None,\n",
    "    'y_transform': lambda y: int(y >= 4),\n",
    "    'smiles_descriptors': [\n",
    "        SMILESDescriptor(descriptors_transformer.transform),\n",
    "        SMILESDescriptor(rdkit_fp, 'rdkit_fp'),\n",
    "        SMILESDescriptor(rdkit_2d, 'rdkit_2d')\n",
    "    ]\n",
    "}\n",
    "\n",
    "train_dataset = SMILESMolDataset(data=train_data, **dataset_args)\n",
    "test_dataset = SMILESMolDataset(data=test_data, **dataset_args)"
   ],
   "metadata": {
    "collapsed": false,
    "ExecuteTime": {
     "end_time": "2024-02-21T17:05:57.905614800Z",
     "start_time": "2024-02-21T17:03:43.979001700Z"
    }
   },
   "id": "1f82b487c26204a9"
  },
  {
   "cell_type": "code",
   "execution_count": 64,
   "outputs": [
    {
     "data": {
      "text/plain": "(array([100.   ,   2.8  , 167.253]), array([1], dtype=int64))"
     },
     "execution_count": 64,
     "metadata": {},
     "output_type": "execute_result"
    }
   ],
   "source": [
    "train_dataset[1]"
   ],
   "metadata": {
    "collapsed": false,
    "ExecuteTime": {
     "end_time": "2024-02-21T17:05:57.909689700Z",
     "start_time": "2024-02-21T17:05:57.905614800Z"
    }
   },
   "id": "473bf0ead0ce8757"
  },
  {
   "cell_type": "code",
   "execution_count": 68,
   "outputs": [],
   "source": [
    "class TrainingModel:\n",
    "    def __init__(\n",
    "            self,\n",
    "            *,\n",
    "            model: typing.Any,\n",
    "            fit_method: str = 'fit',\n",
    "            predict_method: str = 'predict',\n",
    "            **kwargs\n",
    "    ):\n",
    "        self.model = model(**kwargs)\n",
    "        self._fit_method = fit_method\n",
    "        self._predict_method = predict_method\n",
    "\n",
    "    def fit(self, x_train: pd.DataFrame, y_train: pd.DataFrame, **kwargs):\n",
    "        getattr(self.model, self._fit_method)(x_train, y_train, **kwargs)\n",
    "\n",
    "    def predict(self, x_test: pd.DataFrame, **kwargs) -> typing.Union[np.ndarray]:\n",
    "        return getattr(self.model, self._predict_method)(x_test, **kwargs)"
   ],
   "metadata": {
    "collapsed": false,
    "ExecuteTime": {
     "end_time": "2024-02-21T17:06:37.393480400Z",
     "start_time": "2024-02-21T17:06:37.364059300Z"
    }
   },
   "id": "5f80fd338bd51c59"
  },
  {
   "cell_type": "code",
   "execution_count": 43,
   "outputs": [
    {
     "name": "stdout",
     "output_type": "stream",
     "text": [
      "Collecting catboost\n",
      "  Downloading catboost-1.2.2-cp311-cp311-win_amd64.whl.metadata (1.2 kB)\n",
      "Requirement already satisfied: graphviz in c:\\users\\maxim\\appdata\\local\\programs\\python\\python311\\lib\\site-packages (from catboost) (0.20.1)\n",
      "Requirement already satisfied: matplotlib in c:\\users\\maxim\\appdata\\local\\programs\\python\\python311\\lib\\site-packages (from catboost) (3.7.1)\n",
      "Requirement already satisfied: numpy>=1.16.0 in c:\\users\\maxim\\appdata\\local\\programs\\python\\python311\\lib\\site-packages (from catboost) (1.23.5)\n",
      "Requirement already satisfied: pandas>=0.24 in c:\\users\\maxim\\appdata\\local\\programs\\python\\python311\\lib\\site-packages (from catboost) (1.5.3)\n",
      "Requirement already satisfied: scipy in c:\\users\\maxim\\appdata\\local\\programs\\python\\python311\\lib\\site-packages (from catboost) (1.10.1)\n",
      "Collecting plotly (from catboost)\n",
      "  Downloading plotly-5.19.0-py3-none-any.whl.metadata (7.0 kB)\n",
      "Requirement already satisfied: six in c:\\users\\maxim\\appdata\\local\\programs\\python\\python311\\lib\\site-packages (from catboost) (1.16.0)\n",
      "Requirement already satisfied: python-dateutil>=2.8.1 in c:\\users\\maxim\\appdata\\local\\programs\\python\\python311\\lib\\site-packages (from pandas>=0.24->catboost) (2.8.2)\n",
      "Requirement already satisfied: pytz>=2020.1 in c:\\users\\maxim\\appdata\\local\\programs\\python\\python311\\lib\\site-packages (from pandas>=0.24->catboost) (2023.3)\n",
      "Requirement already satisfied: contourpy>=1.0.1 in c:\\users\\maxim\\appdata\\local\\programs\\python\\python311\\lib\\site-packages (from matplotlib->catboost) (1.0.7)\n",
      "Requirement already satisfied: cycler>=0.10 in c:\\users\\maxim\\appdata\\local\\programs\\python\\python311\\lib\\site-packages (from matplotlib->catboost) (0.11.0)\n",
      "Requirement already satisfied: fonttools>=4.22.0 in c:\\users\\maxim\\appdata\\local\\programs\\python\\python311\\lib\\site-packages (from matplotlib->catboost) (4.39.3)\n",
      "Requirement already satisfied: kiwisolver>=1.0.1 in c:\\users\\maxim\\appdata\\local\\programs\\python\\python311\\lib\\site-packages (from matplotlib->catboost) (1.4.4)\n",
      "Requirement already satisfied: packaging>=20.0 in c:\\users\\maxim\\appdata\\local\\programs\\python\\python311\\lib\\site-packages (from matplotlib->catboost) (23.1)\n",
      "Requirement already satisfied: pillow>=6.2.0 in c:\\users\\maxim\\appdata\\local\\programs\\python\\python311\\lib\\site-packages (from matplotlib->catboost) (9.5.0)\n",
      "Requirement already satisfied: pyparsing>=2.3.1 in c:\\users\\maxim\\appdata\\local\\programs\\python\\python311\\lib\\site-packages (from matplotlib->catboost) (3.0.9)\n",
      "Collecting tenacity>=6.2.0 (from plotly->catboost)\n",
      "  Downloading tenacity-8.2.3-py3-none-any.whl.metadata (1.0 kB)\n",
      "Downloading catboost-1.2.2-cp311-cp311-win_amd64.whl (101.0 MB)\n",
      "   ---------------------------------------- 0.0/101.0 MB ? eta -:--:--\n",
      "   ---------------------------------------- 0.1/101.0 MB 1.1 MB/s eta 0:01:33\n",
      "   ---------------------------------------- 0.2/101.0 MB 2.3 MB/s eta 0:00:45\n",
      "   ---------------------------------------- 0.5/101.0 MB 3.7 MB/s eta 0:00:28\n",
      "    --------------------------------------- 1.3/101.0 MB 6.7 MB/s eta 0:00:15\n",
      "   - -------------------------------------- 2.6/101.0 MB 11.2 MB/s eta 0:00:09\n",
      "   - -------------------------------------- 3.9/101.0 MB 15.5 MB/s eta 0:00:07\n",
      "   - -------------------------------------- 3.9/101.0 MB 15.5 MB/s eta 0:00:07\n",
      "   -- ------------------------------------- 6.6/101.0 MB 18.4 MB/s eta 0:00:06\n",
      "   --- ------------------------------------ 8.7/101.0 MB 21.4 MB/s eta 0:00:05\n",
      "   --- ------------------------------------ 9.2/101.0 MB 21.7 MB/s eta 0:00:05\n",
      "   ---- ----------------------------------- 11.4/101.0 MB 31.2 MB/s eta 0:00:03\n",
      "   ----- ---------------------------------- 14.5/101.0 MB 54.4 MB/s eta 0:00:02\n",
      "   ----- ---------------------------------- 15.0/101.0 MB 50.4 MB/s eta 0:00:02\n",
      "   ------- -------------------------------- 17.8/101.0 MB 43.5 MB/s eta 0:00:02\n",
      "   ------- -------------------------------- 19.2/101.0 MB 38.6 MB/s eta 0:00:03\n",
      "   -------- ------------------------------- 20.7/101.0 MB 40.9 MB/s eta 0:00:02\n",
      "   -------- ------------------------------- 22.2/101.0 MB 38.6 MB/s eta 0:00:03\n",
      "   --------- ------------------------------ 23.6/101.0 MB 32.8 MB/s eta 0:00:03\n",
      "   --------- ------------------------------ 24.6/101.0 MB 31.2 MB/s eta 0:00:03\n",
      "   ---------- ----------------------------- 25.9/101.0 MB 34.4 MB/s eta 0:00:03\n",
      "   ---------- ----------------------------- 27.5/101.0 MB 29.7 MB/s eta 0:00:03\n",
      "   ----------- ---------------------------- 28.9/101.0 MB 31.2 MB/s eta 0:00:03\n",
      "   ------------ --------------------------- 30.4/101.0 MB 29.8 MB/s eta 0:00:03\n",
      "   ------------ --------------------------- 31.8/101.0 MB 29.8 MB/s eta 0:00:03\n",
      "   ------------- -------------------------- 33.3/101.0 MB 29.7 MB/s eta 0:00:03\n",
      "   ------------- -------------------------- 34.7/101.0 MB 29.7 MB/s eta 0:00:03\n",
      "   -------------- ------------------------- 35.7/101.0 MB 29.7 MB/s eta 0:00:03\n",
      "   -------------- ------------------------- 36.1/101.0 MB 31.2 MB/s eta 0:00:03\n",
      "   --------------- ------------------------ 38.3/101.0 MB 29.7 MB/s eta 0:00:03\n",
      "   --------------- ------------------------ 39.3/101.0 MB 28.5 MB/s eta 0:00:03\n",
      "   --------------- ------------------------ 40.3/101.0 MB 27.3 MB/s eta 0:00:03\n",
      "   ---------------- ----------------------- 41.3/101.0 MB 27.3 MB/s eta 0:00:03\n",
      "   ---------------- ----------------------- 42.4/101.0 MB 26.2 MB/s eta 0:00:03\n",
      "   ----------------- ---------------------- 43.5/101.0 MB 25.2 MB/s eta 0:00:03\n",
      "   ----------------- ---------------------- 44.5/101.0 MB 24.2 MB/s eta 0:00:03\n",
      "   ------------------ --------------------- 45.6/101.0 MB 23.4 MB/s eta 0:00:03\n",
      "   ------------------ --------------------- 46.6/101.0 MB 26.2 MB/s eta 0:00:03\n",
      "   ------------------ --------------------- 47.8/101.0 MB 23.4 MB/s eta 0:00:03\n",
      "   ------------------- -------------------- 48.9/101.0 MB 23.4 MB/s eta 0:00:03\n",
      "   ------------------- -------------------- 50.0/101.0 MB 23.4 MB/s eta 0:00:03\n",
      "   -------------------- ------------------- 51.2/101.0 MB 23.4 MB/s eta 0:00:03\n",
      "   -------------------- ------------------- 52.4/101.0 MB 23.4 MB/s eta 0:00:03\n",
      "   --------------------- ------------------ 53.5/101.0 MB 24.2 MB/s eta 0:00:02\n",
      "   --------------------- ------------------ 54.7/101.0 MB 25.1 MB/s eta 0:00:02\n",
      "   ---------------------- ----------------- 55.8/101.0 MB 25.2 MB/s eta 0:00:02\n",
      "   ---------------------- ----------------- 57.0/101.0 MB 24.2 MB/s eta 0:00:02\n",
      "   ----------------------- ---------------- 58.2/101.0 MB 26.2 MB/s eta 0:00:02\n",
      "   ----------------------- ---------------- 59.4/101.0 MB 26.2 MB/s eta 0:00:02\n",
      "   ----------------------- ---------------- 60.6/101.0 MB 26.2 MB/s eta 0:00:02\n",
      "   ------------------------ --------------- 61.7/101.0 MB 25.2 MB/s eta 0:00:02\n",
      "   ------------------------ --------------- 62.8/101.0 MB 25.1 MB/s eta 0:00:02\n",
      "   ------------------------- -------------- 64.0/101.0 MB 25.1 MB/s eta 0:00:02\n",
      "   ------------------------- -------------- 65.3/101.0 MB 26.2 MB/s eta 0:00:02\n",
      "   -------------------------- ------------- 66.4/101.0 MB 26.2 MB/s eta 0:00:02\n",
      "   -------------------------- ------------- 67.7/101.0 MB 26.2 MB/s eta 0:00:02\n",
      "   --------------------------- ------------ 68.9/101.0 MB 26.2 MB/s eta 0:00:02\n",
      "   --------------------------- ------------ 70.0/101.0 MB 25.2 MB/s eta 0:00:02\n",
      "   ---------------------------- ----------- 71.1/101.0 MB 25.2 MB/s eta 0:00:02\n",
      "   ---------------------------- ----------- 72.4/101.0 MB 26.2 MB/s eta 0:00:02\n",
      "   ----------------------------- ---------- 73.6/101.0 MB 26.2 MB/s eta 0:00:02\n",
      "   ----------------------------- ---------- 74.8/101.0 MB 25.2 MB/s eta 0:00:02\n",
      "   ------------------------------ --------- 76.1/101.0 MB 26.2 MB/s eta 0:00:01\n",
      "   ------------------------------ --------- 77.3/101.0 MB 27.3 MB/s eta 0:00:01\n",
      "   ------------------------------- -------- 78.5/101.0 MB 27.3 MB/s eta 0:00:01\n",
      "   ------------------------------- -------- 79.8/101.0 MB 27.3 MB/s eta 0:00:01\n",
      "   -------------------------------- ------- 80.9/101.0 MB 27.3 MB/s eta 0:00:01\n",
      "   -------------------------------- ------- 82.2/101.0 MB 27.3 MB/s eta 0:00:01\n",
      "   --------------------------------- ------ 83.4/101.0 MB 27.3 MB/s eta 0:00:01\n",
      "   --------------------------------- ------ 84.6/101.0 MB 26.2 MB/s eta 0:00:01\n",
      "   --------------------------------- ------ 85.8/101.0 MB 26.2 MB/s eta 0:00:01\n",
      "   ---------------------------------- ----- 87.0/101.0 MB 26.2 MB/s eta 0:00:01\n",
      "   ---------------------------------- ----- 88.2/101.0 MB 26.2 MB/s eta 0:00:01\n",
      "   ----------------------------------- ---- 89.4/101.0 MB 26.2 MB/s eta 0:00:01\n",
      "   ----------------------------------- ---- 90.7/101.0 MB 26.2 MB/s eta 0:00:01\n",
      "   ------------------------------------ --- 92.0/101.0 MB 26.2 MB/s eta 0:00:01\n",
      "   ------------------------------------ --- 93.2/101.0 MB 27.3 MB/s eta 0:00:01\n",
      "   ------------------------------------- -- 94.4/101.0 MB 27.3 MB/s eta 0:00:01\n",
      "   ------------------------------------- -- 95.7/101.0 MB 27.3 MB/s eta 0:00:01\n",
      "   -------------------------------------- - 96.9/101.0 MB 27.3 MB/s eta 0:00:01\n",
      "   -------------------------------------- - 98.2/101.0 MB 27.3 MB/s eta 0:00:01\n",
      "   ---------------------------------------  99.3/101.0 MB 27.3 MB/s eta 0:00:01\n",
      "   --------------------------------------  100.6/101.0 MB 27.3 MB/s eta 0:00:01\n",
      "   --------------------------------------  101.0/101.0 MB 27.3 MB/s eta 0:00:01\n",
      "   --------------------------------------  101.0/101.0 MB 27.3 MB/s eta 0:00:01\n",
      "   --------------------------------------- 101.0/101.0 MB 20.5 MB/s eta 0:00:00\n",
      "Downloading plotly-5.19.0-py3-none-any.whl (15.7 MB)\n",
      "   ---------------------------------------- 0.0/15.7 MB ? eta -:--:--\n",
      "   -- ------------------------------------- 1.1/15.7 MB 34.9 MB/s eta 0:00:01\n",
      "   ----- ---------------------------------- 2.3/15.7 MB 29.4 MB/s eta 0:00:01\n",
      "   --------- ------------------------------ 3.6/15.7 MB 28.4 MB/s eta 0:00:01\n",
      "   ----------- ---------------------------- 4.7/15.7 MB 27.1 MB/s eta 0:00:01\n",
      "   --------------- ------------------------ 6.0/15.7 MB 27.2 MB/s eta 0:00:01\n",
      "   ------------------ --------------------- 7.1/15.7 MB 26.8 MB/s eta 0:00:01\n",
      "   --------------------- ------------------ 8.3/15.7 MB 28.0 MB/s eta 0:00:01\n",
      "   ------------------------ --------------- 9.6/15.7 MB 27.8 MB/s eta 0:00:01\n",
      "   --------------------------- ------------ 10.7/15.7 MB 27.3 MB/s eta 0:00:01\n",
      "   ------------------------------ --------- 11.9/15.7 MB 27.3 MB/s eta 0:00:01\n",
      "   --------------------------------- ------ 13.1/15.7 MB 27.3 MB/s eta 0:00:01\n",
      "   ------------------------------------ --- 14.3/15.7 MB 27.3 MB/s eta 0:00:01\n",
      "   ---------------------------------------  15.6/15.7 MB 27.3 MB/s eta 0:00:01\n",
      "   ---------------------------------------- 15.7/15.7 MB 26.2 MB/s eta 0:00:00\n",
      "Downloading tenacity-8.2.3-py3-none-any.whl (24 kB)\n",
      "Installing collected packages: tenacity, plotly, catboost\n",
      "Successfully installed catboost-1.2.2 plotly-5.19.0 tenacity-8.2.3\n"
     ]
    }
   ],
   "source": [
    "!pip install catboost"
   ],
   "metadata": {
    "collapsed": false,
    "ExecuteTime": {
     "end_time": "2024-02-21T16:36:41.247006800Z",
     "start_time": "2024-02-21T16:35:25.906136700Z"
    }
   },
   "id": "9c7f2ae759782198"
  },
  {
   "cell_type": "code",
   "execution_count": 69,
   "outputs": [
    {
     "name": "stdout",
     "output_type": "stream",
     "text": [
      "Learning rate set to 0.094876\n",
      "0:\tlearn: 0.6267560\ttotal: 1.26ms\tremaining: 125ms\n",
      "1:\tlearn: 0.5698490\ttotal: 2.19ms\tremaining: 107ms\n",
      "2:\tlearn: 0.5187655\ttotal: 2.98ms\tremaining: 96.4ms\n",
      "3:\tlearn: 0.4752630\ttotal: 3.78ms\tremaining: 90.8ms\n",
      "4:\tlearn: 0.4378315\ttotal: 4.56ms\tremaining: 86.6ms\n",
      "5:\tlearn: 0.4011325\ttotal: 5.36ms\tremaining: 84ms\n",
      "6:\tlearn: 0.3743672\ttotal: 6.13ms\tremaining: 81.4ms\n",
      "7:\tlearn: 0.3477135\ttotal: 6.88ms\tremaining: 79.1ms\n",
      "8:\tlearn: 0.3234805\ttotal: 7.7ms\tremaining: 77.9ms\n",
      "9:\tlearn: 0.3049522\ttotal: 8.49ms\tremaining: 76.4ms\n",
      "10:\tlearn: 0.2834217\ttotal: 9.28ms\tremaining: 75.1ms\n",
      "11:\tlearn: 0.2623452\ttotal: 10.1ms\tremaining: 73.9ms\n",
      "12:\tlearn: 0.2444954\ttotal: 10.9ms\tremaining: 73ms\n",
      "13:\tlearn: 0.2299818\ttotal: 11.7ms\tremaining: 71.9ms\n",
      "14:\tlearn: 0.2144001\ttotal: 12.5ms\tremaining: 71ms\n",
      "15:\tlearn: 0.2043646\ttotal: 13.3ms\tremaining: 69.9ms\n",
      "16:\tlearn: 0.1925611\ttotal: 14.1ms\tremaining: 69ms\n",
      "17:\tlearn: 0.1806978\ttotal: 15ms\tremaining: 68.1ms\n",
      "18:\tlearn: 0.1734262\ttotal: 15.3ms\tremaining: 65.2ms\n",
      "19:\tlearn: 0.1642410\ttotal: 16.1ms\tremaining: 64.4ms\n",
      "20:\tlearn: 0.1554812\ttotal: 16.9ms\tremaining: 63.7ms\n",
      "21:\tlearn: 0.1480528\ttotal: 17.8ms\tremaining: 63ms\n",
      "22:\tlearn: 0.1406762\ttotal: 18.6ms\tremaining: 62.3ms\n",
      "23:\tlearn: 0.1353603\ttotal: 19.4ms\tremaining: 61.5ms\n",
      "24:\tlearn: 0.1277743\ttotal: 20.2ms\tremaining: 60.6ms\n",
      "25:\tlearn: 0.1224601\ttotal: 21ms\tremaining: 59.8ms\n",
      "26:\tlearn: 0.1170453\ttotal: 21.8ms\tremaining: 59ms\n",
      "27:\tlearn: 0.1131574\ttotal: 22.7ms\tremaining: 58.4ms\n",
      "28:\tlearn: 0.1090792\ttotal: 23.5ms\tremaining: 57.5ms\n",
      "29:\tlearn: 0.1047591\ttotal: 24.4ms\tremaining: 57ms\n",
      "30:\tlearn: 0.1002204\ttotal: 25.3ms\tremaining: 56.2ms\n",
      "31:\tlearn: 0.0971081\ttotal: 26.1ms\tremaining: 55.4ms\n",
      "32:\tlearn: 0.0934550\ttotal: 26.9ms\tremaining: 54.7ms\n",
      "33:\tlearn: 0.0914494\ttotal: 27.8ms\tremaining: 53.9ms\n",
      "34:\tlearn: 0.0888774\ttotal: 28.6ms\tremaining: 53.1ms\n",
      "35:\tlearn: 0.0864900\ttotal: 29.5ms\tremaining: 52.5ms\n",
      "36:\tlearn: 0.0830458\ttotal: 30.4ms\tremaining: 51.8ms\n",
      "37:\tlearn: 0.0795952\ttotal: 31.3ms\tremaining: 51.1ms\n",
      "38:\tlearn: 0.0774911\ttotal: 32.3ms\tremaining: 50.6ms\n",
      "39:\tlearn: 0.0751572\ttotal: 33.2ms\tremaining: 49.8ms\n",
      "40:\tlearn: 0.0729753\ttotal: 34.1ms\tremaining: 49ms\n",
      "41:\tlearn: 0.0718463\ttotal: 35ms\tremaining: 48.3ms\n",
      "42:\tlearn: 0.0697507\ttotal: 36ms\tremaining: 47.7ms\n",
      "43:\tlearn: 0.0671763\ttotal: 37ms\tremaining: 47.1ms\n",
      "44:\tlearn: 0.0647332\ttotal: 37.8ms\tremaining: 46.2ms\n",
      "45:\tlearn: 0.0632230\ttotal: 38.7ms\tremaining: 45.4ms\n",
      "46:\tlearn: 0.0617753\ttotal: 39.6ms\tremaining: 44.6ms\n",
      "47:\tlearn: 0.0598684\ttotal: 40.4ms\tremaining: 43.7ms\n",
      "48:\tlearn: 0.0581974\ttotal: 41.2ms\tremaining: 42.9ms\n",
      "49:\tlearn: 0.0572042\ttotal: 42ms\tremaining: 42ms\n",
      "50:\tlearn: 0.0555328\ttotal: 42.8ms\tremaining: 41.1ms\n",
      "51:\tlearn: 0.0538631\ttotal: 43.6ms\tremaining: 40.2ms\n",
      "52:\tlearn: 0.0529002\ttotal: 44.4ms\tremaining: 39.4ms\n",
      "53:\tlearn: 0.0517525\ttotal: 45.2ms\tremaining: 38.5ms\n",
      "54:\tlearn: 0.0504388\ttotal: 46ms\tremaining: 37.6ms\n",
      "55:\tlearn: 0.0492994\ttotal: 46.8ms\tremaining: 36.8ms\n",
      "56:\tlearn: 0.0487965\ttotal: 47.6ms\tremaining: 35.9ms\n",
      "57:\tlearn: 0.0478695\ttotal: 48.4ms\tremaining: 35.1ms\n",
      "58:\tlearn: 0.0468466\ttotal: 49.3ms\tremaining: 34.2ms\n",
      "59:\tlearn: 0.0458745\ttotal: 50.1ms\tremaining: 33.4ms\n",
      "60:\tlearn: 0.0452000\ttotal: 50.9ms\tremaining: 32.5ms\n",
      "61:\tlearn: 0.0442850\ttotal: 51.7ms\tremaining: 31.7ms\n",
      "62:\tlearn: 0.0436336\ttotal: 52.5ms\tremaining: 30.8ms\n",
      "63:\tlearn: 0.0429193\ttotal: 53.2ms\tremaining: 30ms\n",
      "64:\tlearn: 0.0423271\ttotal: 54ms\tremaining: 29.1ms\n",
      "65:\tlearn: 0.0414710\ttotal: 54.8ms\tremaining: 28.2ms\n",
      "66:\tlearn: 0.0408570\ttotal: 55.6ms\tremaining: 27.4ms\n",
      "67:\tlearn: 0.0401373\ttotal: 56.4ms\tremaining: 26.5ms\n",
      "68:\tlearn: 0.0397074\ttotal: 57.2ms\tremaining: 25.7ms\n",
      "69:\tlearn: 0.0390359\ttotal: 58ms\tremaining: 24.9ms\n",
      "70:\tlearn: 0.0384483\ttotal: 58.8ms\tremaining: 24ms\n",
      "71:\tlearn: 0.0380572\ttotal: 59.6ms\tremaining: 23.2ms\n",
      "72:\tlearn: 0.0375043\ttotal: 60.4ms\tremaining: 22.3ms\n",
      "73:\tlearn: 0.0370640\ttotal: 61.1ms\tremaining: 21.5ms\n",
      "74:\tlearn: 0.0366259\ttotal: 61.9ms\tremaining: 20.6ms\n",
      "75:\tlearn: 0.0360433\ttotal: 62.7ms\tremaining: 19.8ms\n",
      "76:\tlearn: 0.0355309\ttotal: 63.6ms\tremaining: 19ms\n",
      "77:\tlearn: 0.0352602\ttotal: 64.4ms\tremaining: 18.2ms\n",
      "78:\tlearn: 0.0345063\ttotal: 65.2ms\tremaining: 17.3ms\n",
      "79:\tlearn: 0.0341137\ttotal: 66.1ms\tremaining: 16.5ms\n",
      "80:\tlearn: 0.0337879\ttotal: 66.9ms\tremaining: 15.7ms\n",
      "81:\tlearn: 0.0334836\ttotal: 67.8ms\tremaining: 14.9ms\n",
      "82:\tlearn: 0.0330559\ttotal: 68.6ms\tremaining: 14.1ms\n",
      "83:\tlearn: 0.0327380\ttotal: 69.4ms\tremaining: 13.2ms\n",
      "84:\tlearn: 0.0323169\ttotal: 70.2ms\tremaining: 12.4ms\n",
      "85:\tlearn: 0.0317136\ttotal: 71ms\tremaining: 11.6ms\n",
      "86:\tlearn: 0.0311975\ttotal: 71.8ms\tremaining: 10.7ms\n",
      "87:\tlearn: 0.0308250\ttotal: 72.7ms\tremaining: 9.91ms\n",
      "88:\tlearn: 0.0304984\ttotal: 73.5ms\tremaining: 9.08ms\n",
      "89:\tlearn: 0.0301476\ttotal: 74.3ms\tremaining: 8.26ms\n",
      "90:\tlearn: 0.0296116\ttotal: 75.2ms\tremaining: 7.44ms\n",
      "91:\tlearn: 0.0293583\ttotal: 76.1ms\tremaining: 6.62ms\n",
      "92:\tlearn: 0.0290573\ttotal: 76.9ms\tremaining: 5.79ms\n",
      "93:\tlearn: 0.0288732\ttotal: 77.7ms\tremaining: 4.96ms\n",
      "94:\tlearn: 0.0286844\ttotal: 78.6ms\tremaining: 4.13ms\n",
      "95:\tlearn: 0.0284169\ttotal: 79.4ms\tremaining: 3.31ms\n",
      "96:\tlearn: 0.0278172\ttotal: 80.1ms\tremaining: 2.48ms\n",
      "97:\tlearn: 0.0275819\ttotal: 80.9ms\tremaining: 1.65ms\n",
      "98:\tlearn: 0.0274374\ttotal: 81.7ms\tremaining: 825us\n",
      "99:\tlearn: 0.0272046\ttotal: 82.5ms\tremaining: 0us\n"
     ]
    }
   ],
   "source": [
    "from catboost import CatBoostClassifier\n",
    "\n",
    "training_model = TrainingModel(\n",
    "    model=CatBoostClassifier,\n",
    "    iterations=100\n",
    ")\n",
    "\n",
    "training_model.fit(train_dataset.x, train_dataset.y)"
   ],
   "metadata": {
    "collapsed": false,
    "ExecuteTime": {
     "end_time": "2024-02-21T17:06:47.700120400Z",
     "start_time": "2024-02-21T17:06:47.587226500Z"
    }
   },
   "id": "a78e0e4976c88d06"
  },
  {
   "cell_type": "code",
   "execution_count": 70,
   "outputs": [],
   "source": [
    "y_pred = training_model.predict(test_dataset.x)"
   ],
   "metadata": {
    "collapsed": false,
    "ExecuteTime": {
     "end_time": "2024-02-21T17:06:48.441302200Z",
     "start_time": "2024-02-21T17:06:48.428998800Z"
    }
   },
   "id": "75e0e59105a51649"
  },
  {
   "cell_type": "code",
   "execution_count": 72,
   "outputs": [
    {
     "data": {
      "text/plain": "array([1, 1, 1, 1, 1, 1, 1, 1, 1, 1, 1, 1, 1, 1, 1, 1, 1, 1, 1, 1, 1, 1,\n       1, 1, 1, 1, 1, 1, 1, 1, 1, 1, 1, 1, 1, 1, 1, 1, 1, 1, 1, 1, 1, 1,\n       1, 1, 1, 1, 1, 1, 1, 1, 1, 1, 1, 1, 1, 1, 1, 1, 1, 1, 1, 1, 1, 1,\n       1, 1, 1, 1, 1, 1, 1, 1, 1, 1, 1, 1, 1, 1, 1, 1, 1, 1, 1, 1, 1, 1,\n       1, 1, 1, 1, 1, 1, 1, 1, 1, 1, 1, 1, 1, 1, 1, 1, 1, 1, 1, 1, 1, 1,\n       1, 1, 1, 1, 1, 1, 1, 1, 1, 1, 0, 1, 1, 1, 1, 1, 1, 1, 1, 1, 1, 1,\n       1, 1, 1, 1, 1, 1, 1, 1, 1, 1, 1, 1, 1, 1, 1, 1, 1, 1, 0, 1, 1, 1,\n       1, 1, 1, 1, 1, 1, 0, 0, 1, 1, 1, 1, 1, 1, 1, 1, 1, 1, 1, 1, 0, 1,\n       1, 1, 1, 1, 1, 1, 1, 0, 0, 1, 1, 1, 1, 1, 1, 1, 1, 1, 1, 1, 1, 1,\n       1, 1, 1, 1, 1, 1, 1, 1, 1, 1, 1, 1, 1, 1, 1, 1, 1, 1, 1, 1, 1, 1,\n       1, 1, 1, 1, 1, 1, 1, 1, 1, 1, 1, 1, 1, 1, 1, 1, 1, 1, 1, 1, 1, 1,\n       1, 1, 1, 1, 1, 1, 1, 1, 1, 1, 1, 1, 1, 1, 1, 1, 1, 1, 1, 1, 1, 1,\n       1, 1, 0, 1, 1, 1, 1, 1, 1, 1, 1, 1, 1, 1, 1, 1, 1, 1, 1, 1, 1, 1,\n       1, 1, 1, 1, 1, 1, 1, 1, 1, 1, 1, 1, 1, 1, 1, 1, 1, 1, 1, 1, 1, 1,\n       1, 1, 1, 1, 1, 1, 0, 1, 1, 1, 1, 1, 1, 1, 1], dtype=int64)"
     },
     "execution_count": 72,
     "metadata": {},
     "output_type": "execute_result"
    }
   ],
   "source": [
    "y_pred"
   ],
   "metadata": {
    "collapsed": false,
    "ExecuteTime": {
     "end_time": "2024-02-21T17:06:53.108951600Z",
     "start_time": "2024-02-21T17:06:53.073739300Z"
    }
   },
   "id": "d5e87684019aee46"
  },
  {
   "cell_type": "code",
   "execution_count": null,
   "outputs": [],
   "source": [],
   "metadata": {
    "collapsed": false
   },
   "id": "bfe4ab91cf5db344"
  }
 ],
 "metadata": {
  "kernelspec": {
   "display_name": "Python 3",
   "language": "python",
   "name": "python3"
  },
  "language_info": {
   "codemirror_mode": {
    "name": "ipython",
    "version": 2
   },
   "file_extension": ".py",
   "mimetype": "text/x-python",
   "name": "python",
   "nbconvert_exporter": "python",
   "pygments_lexer": "ipython2",
   "version": "2.7.6"
  }
 },
 "nbformat": 4,
 "nbformat_minor": 5
}
