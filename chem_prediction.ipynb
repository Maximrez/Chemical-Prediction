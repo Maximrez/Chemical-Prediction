{
 "cells": [
  {
   "cell_type": "code",
   "execution_count": null,
   "id": "initial_id",
   "metadata": {
    "collapsed": true
   },
   "outputs": [],
   "source": [
    "!pip install rdkit & > /dev/null"
   ]
  },
  {
   "cell_type": "code",
   "execution_count": 3,
   "outputs": [],
   "source": [
    "import torch\n",
    "import random\n",
    "import typing\n",
    "import warnings\n",
    "import numpy as np\n",
    "import pandas as pd\n",
    "import seaborn as sns\n",
    "from rdkit import Chem\n",
    "from rdkit import DataStructs\n",
    "from torch.utils.data import Dataset\n",
    "from rdkit.Chem import AllChem, Descriptors\n",
    "from sklearn.preprocessing import FunctionTransformer\n",
    "\n",
    "warnings.filterwarnings('ignore')"
   ],
   "metadata": {
    "collapsed": false,
    "ExecuteTime": {
     "end_time": "2024-05-14T15:44:26.180921800Z",
     "start_time": "2024-05-14T15:44:20.767457Z"
    }
   },
   "id": "511ca0b0a376ab76"
  },
  {
   "cell_type": "code",
   "execution_count": 4,
   "outputs": [],
   "source": [
    "seed = 42\n",
    "torch.manual_seed(seed)\n",
    "np.random.seed(seed)\n",
    "random.seed(seed)\n",
    "torch.cuda.manual_seed(seed)\n",
    "torch.backends.cudnn.deterministic = True"
   ],
   "metadata": {
    "collapsed": false,
    "ExecuteTime": {
     "end_time": "2024-05-14T15:44:26.201082300Z",
     "start_time": "2024-05-14T15:44:26.180921800Z"
    }
   },
   "id": "c69123d95f420e37"
  },
  {
   "cell_type": "code",
   "execution_count": 28,
   "outputs": [
    {
     "data": {
      "text/plain": "         Title  IC50, mmg/ml  CC50-MDCK, mmg/ml          SI  Molecular weight  \\\n0  1007-Ya-213           2.7              500.0  185.185185           195.307   \n1  1007-Ya-213           0.7              447.0  638.571429           195.307   \n2  1008-Ya-187           9.9              144.0   14.545455           250.431   \n3  1009-As-106           8.3              500.0   60.240964           222.377   \n4  1010-Ya-208          39.4              143.0    3.629442           239.361   \n\n   Hydrogen bond acceptors  Hydrogen bond donors  Polar SA  \\\n0                        2                     1     32.59   \n1                        2                     1     32.59   \n2                        1                     0     15.60   \n3                        1                     0     15.60   \n4                        2                     0     29.54   \n\n                                         SMILES  Pictures  \n0           OCC\\N=C(\\[C@]12C)C[C@@H](C1(C)C)CC2      50.0  \n1           OCC\\N=C(\\[C@]12C)C[C@@H](C1(C)C)CC2      51.0  \n2     CCN(CC)CC\\N=C(\\[C@@]12C)C[C@H](C1(C)C)CC2      52.0  \n3       CN(C)CC\\N=C(\\[C@@]12C)C[C@H](C1(C)C)CC2      53.0  \n4  CN(C)CC(=O)O[C@H]1C[C@H](CC2)C(C)(C)[C@@]12C      54.0  ",
      "text/html": "<div>\n<style scoped>\n    .dataframe tbody tr th:only-of-type {\n        vertical-align: middle;\n    }\n\n    .dataframe tbody tr th {\n        vertical-align: top;\n    }\n\n    .dataframe thead th {\n        text-align: right;\n    }\n</style>\n<table border=\"1\" class=\"dataframe\">\n  <thead>\n    <tr style=\"text-align: right;\">\n      <th></th>\n      <th>Title</th>\n      <th>IC50, mmg/ml</th>\n      <th>CC50-MDCK, mmg/ml</th>\n      <th>SI</th>\n      <th>Molecular weight</th>\n      <th>Hydrogen bond acceptors</th>\n      <th>Hydrogen bond donors</th>\n      <th>Polar SA</th>\n      <th>SMILES</th>\n      <th>Pictures</th>\n    </tr>\n  </thead>\n  <tbody>\n    <tr>\n      <th>0</th>\n      <td>1007-Ya-213</td>\n      <td>2.7</td>\n      <td>500.0</td>\n      <td>185.185185</td>\n      <td>195.307</td>\n      <td>2</td>\n      <td>1</td>\n      <td>32.59</td>\n      <td>OCC\\N=C(\\[C@]12C)C[C@@H](C1(C)C)CC2</td>\n      <td>50.0</td>\n    </tr>\n    <tr>\n      <th>1</th>\n      <td>1007-Ya-213</td>\n      <td>0.7</td>\n      <td>447.0</td>\n      <td>638.571429</td>\n      <td>195.307</td>\n      <td>2</td>\n      <td>1</td>\n      <td>32.59</td>\n      <td>OCC\\N=C(\\[C@]12C)C[C@@H](C1(C)C)CC2</td>\n      <td>51.0</td>\n    </tr>\n    <tr>\n      <th>2</th>\n      <td>1008-Ya-187</td>\n      <td>9.9</td>\n      <td>144.0</td>\n      <td>14.545455</td>\n      <td>250.431</td>\n      <td>1</td>\n      <td>0</td>\n      <td>15.60</td>\n      <td>CCN(CC)CC\\N=C(\\[C@@]12C)C[C@H](C1(C)C)CC2</td>\n      <td>52.0</td>\n    </tr>\n    <tr>\n      <th>3</th>\n      <td>1009-As-106</td>\n      <td>8.3</td>\n      <td>500.0</td>\n      <td>60.240964</td>\n      <td>222.377</td>\n      <td>1</td>\n      <td>0</td>\n      <td>15.60</td>\n      <td>CN(C)CC\\N=C(\\[C@@]12C)C[C@H](C1(C)C)CC2</td>\n      <td>53.0</td>\n    </tr>\n    <tr>\n      <th>4</th>\n      <td>1010-Ya-208</td>\n      <td>39.4</td>\n      <td>143.0</td>\n      <td>3.629442</td>\n      <td>239.361</td>\n      <td>2</td>\n      <td>0</td>\n      <td>29.54</td>\n      <td>CN(C)CC(=O)O[C@H]1C[C@H](CC2)C(C)(C)[C@@]12C</td>\n      <td>54.0</td>\n    </tr>\n  </tbody>\n</table>\n</div>"
     },
     "execution_count": 28,
     "metadata": {},
     "output_type": "execute_result"
    }
   ],
   "source": [
    "data = pd.read_excel('data/All-1614.xlsx')\n",
    "data.head()"
   ],
   "metadata": {
    "collapsed": false,
    "ExecuteTime": {
     "end_time": "2024-05-14T15:52:20.058037100Z",
     "start_time": "2024-05-14T15:52:19.906309900Z"
    }
   },
   "id": "254d050169781209"
  },
  {
   "cell_type": "code",
   "execution_count": 29,
   "outputs": [],
   "source": [
    "data.rename(\n",
    "    columns={'IC50, mmg/ml': 'IC50', 'CC50-MDCK, mmg/ml': 'CC50'},\n",
    "    inplace=True\n",
    ")"
   ],
   "metadata": {
    "collapsed": false,
    "ExecuteTime": {
     "end_time": "2024-05-14T15:52:21.052173900Z",
     "start_time": "2024-05-14T15:52:21.038782Z"
    }
   },
   "id": "201f46c714597cda"
  },
  {
   "cell_type": "code",
   "execution_count": 30,
   "outputs": [],
   "source": [
    "def mol_dsc_calc(mols):\n",
    "    return pd.DataFrame({k: f(Chem.MolFromSmiles(m)) for k, f in descriptors.items()} for m in mols)\n",
    "\n",
    "\n",
    "# список конституционных и физико-химических дескрипторов из библиотеки RDKit\n",
    "descriptors = {\n",
    "    'HeavyAtomCount': Descriptors.HeavyAtomCount,\n",
    "    'NHOHCount': Descriptors.NHOHCount,\n",
    "    'NOCount': Descriptors.NOCount,\n",
    "    'NumHAcceptors': Descriptors.NumHAcceptors,\n",
    "    'NumHDonors': Descriptors.NumHDonors,\n",
    "    'NumHeteroatoms': Descriptors.NumHeteroatoms,\n",
    "    'NumRotatableBonds': Descriptors.NumRotatableBonds,\n",
    "    'NumValenceElectrons': Descriptors.NumValenceElectrons,\n",
    "    'NumAromaticRings': Descriptors.NumAromaticRings,\n",
    "    'NumAliphaticHeterocycles': Descriptors.NumAliphaticHeterocycles,\n",
    "    'RingCount': Descriptors.RingCount,\n",
    "    'MW': Descriptors.MolWt,\n",
    "    'LogP': Descriptors.MolLogP,\n",
    "    'MR': Descriptors.MolMR,\n",
    "    'TPSA': Descriptors.TPSA\n",
    "}\n",
    "\n",
    "# sklearn трансформер для использования в конвейерном моделировании\n",
    "descriptors_transformer = FunctionTransformer(mol_dsc_calc)"
   ],
   "metadata": {
    "collapsed": false,
    "ExecuteTime": {
     "end_time": "2024-05-14T15:52:21.753748100Z",
     "start_time": "2024-05-14T15:52:21.726726200Z"
    }
   },
   "id": "bb0fe8db9627e52c"
  },
  {
   "cell_type": "code",
   "execution_count": 31,
   "outputs": [],
   "source": [
    "def rdkit_fp(smiles_column: pd.Series, radius=3, nBits=2048, useChirality=False):\n",
    "    # morganFP_rdkit\n",
    "    def desc_gen(mol):\n",
    "        mol = Chem.MolFromSmiles(mol)\n",
    "        bit_vec = np.zeros((1,), np.int16)\n",
    "        DataStructs.ConvertToNumpyArray(\n",
    "            AllChem.GetMorganFingerprintAsBitVect(mol, radius=radius, nBits=nBits, useChirality=useChirality), bit_vec)\n",
    "        return bit_vec\n",
    "\n",
    "    return pd.DataFrame.from_records(smiles_column.apply(func=desc_gen), columns=[f'bit_id_{i}' for i in range(nBits)])\n",
    "\n",
    "\n",
    "def rdkit_2d(smiles_column: pd.Series):\n",
    "    # 2d_rdkit\n",
    "    descriptors = {i[0]: i[1] for i in Descriptors._descList}\n",
    "    return pd.DataFrame({k: f(Chem.MolFromSmiles(m)) for k, f in descriptors.items()} for m in smiles_column)"
   ],
   "metadata": {
    "collapsed": false,
    "ExecuteTime": {
     "end_time": "2024-05-14T15:52:22.439647900Z",
     "start_time": "2024-05-14T15:52:22.419057400Z"
    }
   },
   "id": "af93fd5a9e68e941"
  },
  {
   "cell_type": "code",
   "execution_count": 32,
   "outputs": [],
   "source": [
    "from dataclasses import dataclass\n",
    "\n",
    "\n",
    "@dataclass\n",
    "class SMILESDescriptor:\n",
    "    descriptor: typing.Callable\n",
    "    title: typing.Optional[str] = None"
   ],
   "metadata": {
    "collapsed": false,
    "ExecuteTime": {
     "end_time": "2024-05-14T15:52:23.195458700Z",
     "start_time": "2024-05-14T15:52:23.163958900Z"
    }
   },
   "id": "2fde1b6f0406411d"
  },
  {
   "cell_type": "code",
   "execution_count": 33,
   "outputs": [],
   "source": [
    "class SMILESMolDataset(Dataset):\n",
    "    def __init__(\n",
    "            self,\n",
    "            *,\n",
    "            data: pd.DataFrame,\n",
    "            x_columns: typing.Optional[typing.List[str]] = None,\n",
    "            delete_x_columns: typing.Optional[typing.List[str]] = None,\n",
    "            y_columns: typing.List[str],\n",
    "            x_transform: typing.Optional[typing.Callable] = None,\n",
    "            y_transform: typing.Optional[typing.Callable] = None,\n",
    "            smiles_descriptors: typing.Optional[typing.Iterable[SMILESDescriptor]] = None\n",
    "    ):\n",
    "        self.data = data\n",
    "        self.x_columns = x_columns\n",
    "        self.delete_x_columns = delete_x_columns\n",
    "        self.y_columns = y_columns\n",
    "        self.x_transform = x_transform\n",
    "        self.y_transform = y_transform\n",
    "        self.smiles_descriptors = smiles_descriptors\n",
    "\n",
    "        self._descript_smiles()\n",
    "        self._separate_data()\n",
    "\n",
    "    # применяем дескрипторы\n",
    "    def _descript_smiles(self):\n",
    "        if self.smiles_descriptors:\n",
    "            for d in self.smiles_descriptors:\n",
    "                d_data = d.descriptor(self.data['SMILES'])\n",
    "                self.data = self.data.join(d_data, lsuffix=d.title or '')\n",
    "\n",
    "    # разделяем данные на x и y\n",
    "    def _separate_data(self):\n",
    "        x = self.data\n",
    "\n",
    "        if self.x_columns:\n",
    "            x = x[self.x_columns]\n",
    "\n",
    "        if not self.delete_x_columns:\n",
    "            self.delete_x_columns = []\n",
    "        self.delete_x_columns += self.y_columns\n",
    "        x = x.drop(columns=self.delete_x_columns)\n",
    "\n",
    "        if self.x_transform:\n",
    "            for column in self.x_columns:\n",
    "                x[column] = x[column].apply(self.x_transform)\n",
    "        self.x = x\n",
    "\n",
    "        y = self.data[self.y_columns]\n",
    "        if self.y_transform:\n",
    "            for column in self.y_columns:\n",
    "                y[column] = y[column].apply(self.y_transform)\n",
    "        self.y = y\n",
    "\n",
    "    def __len__(self):\n",
    "        return len(self.data)\n",
    "\n",
    "    def __getitem__(self, idx):\n",
    "        if torch.is_tensor(idx):\n",
    "            idx = idx.tolist()\n",
    "\n",
    "        return self.x.loc[idx].values, self.y.loc[idx].values"
   ],
   "metadata": {
    "collapsed": false,
    "ExecuteTime": {
     "end_time": "2024-05-14T15:52:24.150552200Z",
     "start_time": "2024-05-14T15:52:24.118467800Z"
    }
   },
   "id": "fe912fcccf9c19fa"
  },
  {
   "cell_type": "code",
   "execution_count": 34,
   "outputs": [],
   "source": [
    "train_data = data.sample(frac=0.8, random_state=seed)\n",
    "test_data = data.drop(train_data.index)\n",
    "\n",
    "train_data = train_data.reset_index(drop=True)\n",
    "test_data = test_data.reset_index(drop=True)"
   ],
   "metadata": {
    "collapsed": false,
    "ExecuteTime": {
     "end_time": "2024-05-14T15:52:35.089404300Z",
     "start_time": "2024-05-14T15:52:35.057231Z"
    }
   },
   "id": "2c5ad6d8d1c00feb"
  },
  {
   "cell_type": "code",
   "execution_count": 35,
   "outputs": [
    {
     "data": {
      "text/plain": "<Axes: xlabel='CC50', ylabel='Count'>"
     },
     "execution_count": 35,
     "metadata": {},
     "output_type": "execute_result"
    },
    {
     "data": {
      "text/plain": "<Figure size 640x480 with 1 Axes>",
      "image/png": "[encoded data removed]"
     },
     "metadata": {},
     "output_type": "display_data"
    }
   ],
   "source": [
    "sns.histplot(train_data['CC50'])"
   ],
   "metadata": {
    "collapsed": false,
    "ExecuteTime": {
     "end_time": "2024-05-14T15:52:36.650116700Z",
     "start_time": "2024-05-14T15:52:36.473389100Z"
    }
   },
   "id": "c3c17572bde890f8"
  },
  {
   "cell_type": "code",
   "execution_count": 36,
   "outputs": [
    {
     "data": {
      "text/plain": "75.3785"
     },
     "execution_count": 36,
     "metadata": {},
     "output_type": "execute_result"
    }
   ],
   "source": [
    "cc50_median = train_data['CC50'].median()\n",
    "cc50_median"
   ],
   "metadata": {
    "collapsed": false,
    "ExecuteTime": {
     "end_time": "2024-05-14T15:52:45.263624300Z",
     "start_time": "2024-05-14T15:52:45.231954500Z"
    }
   },
   "id": "f6d17c09ec690f1f"
  },
  {
   "cell_type": "code",
   "execution_count": 37,
   "outputs": [
    {
     "data": {
      "text/plain": "<Axes: xlabel='IC50', ylabel='Count'>"
     },
     "execution_count": 37,
     "metadata": {},
     "output_type": "execute_result"
    },
    {
     "data": {
      "text/plain": "<Figure size 640x480 with 1 Axes>",
      "image/png": "[encoded data removed]"
     },
     "metadata": {},
     "output_type": "display_data"
    }
   ],
   "source": [
    "sns.histplot(train_data['IC50'])"
   ],
   "metadata": {
    "collapsed": false,
    "ExecuteTime": {
     "end_time": "2024-05-14T15:52:46.104460600Z",
     "start_time": "2024-05-14T15:52:45.866542700Z"
    }
   },
   "id": "e0c2cd8d222c7b35"
  },
  {
   "cell_type": "code",
   "execution_count": 38,
   "outputs": [
    {
     "data": {
      "text/plain": "11.350000000000001"
     },
     "execution_count": 38,
     "metadata": {},
     "output_type": "execute_result"
    }
   ],
   "source": [
    "ic50_median = train_data['IC50'].median()\n",
    "ic50_median"
   ],
   "metadata": {
    "collapsed": false,
    "ExecuteTime": {
     "end_time": "2024-05-14T15:52:59.235054500Z",
     "start_time": "2024-05-14T15:52:59.228718900Z"
    }
   },
   "id": "aafd92427ae5cbc0"
  },
  {
   "cell_type": "code",
   "execution_count": 49,
   "outputs": [],
   "source": [
    "# Для классификации\n",
    "# dataset_args = {\n",
    "#     'x_columns': None,\n",
    "#     'delete_x_columns': ['Title', 'SMILES', 'IC50', 'SI'],\n",
    "#     'y_columns': ['CC50'],\n",
    "#     'x_transform': None,\n",
    "#     'y_transform': lambda y: int(y >= cc50_median),\n",
    "#     'smiles_descriptors': [\n",
    "#         SMILESDescriptor(descriptors_transformer.transform),\n",
    "#         SMILESDescriptor(rdkit_fp, 'rdkit_fp'),\n",
    "#         SMILESDescriptor(rdkit_2d, 'rdkit_2d')\n",
    "#     ]\n",
    "# }\n",
    "\n",
    "# Для регрессии\n",
    "dataset_args = {\n",
    "    'x_columns': None,\n",
    "    'delete_x_columns': ['Title', 'SMILES', 'IC50', 'SI'],\n",
    "    'y_columns': ['CC50'],\n",
    "    'x_transform': None,\n",
    "    'y_transform': lambda y: y if y < 300 else 300,\n",
    "    'smiles_descriptors': [\n",
    "        SMILESDescriptor(descriptors_transformer.transform),\n",
    "        SMILESDescriptor(rdkit_fp, 'rdkit_fp'),\n",
    "        SMILESDescriptor(rdkit_2d, 'rdkit_2d')\n",
    "    ]\n",
    "}\n",
    "\n",
    "import copy\n",
    "dataset_args_train = copy.deepcopy(dataset_args)\n",
    "dataset_args_test = copy.deepcopy(dataset_args)\n",
    "dataset_args_test['y_transform'] = None\n",
    "\n",
    "train_dataset = SMILESMolDataset(data=train_data, **dataset_args_train)\n",
    "test_dataset = SMILESMolDataset(data=test_data, **dataset_args_test)"
   ],
   "metadata": {
    "collapsed": false,
    "ExecuteTime": {
     "end_time": "2024-05-14T15:58:36.285678400Z",
     "start_time": "2024-05-14T15:56:41.616720100Z"
    }
   },
   "id": "1f82b487c26204a9"
  },
  {
   "cell_type": "code",
   "execution_count": 50,
   "outputs": [
    {
     "data": {
      "text/plain": "(array([167.253,   2.   ,   1.   , ...,   0.   ,   0.   ,   0.   ]),\n array([280.]))"
     },
     "execution_count": 50,
     "metadata": {},
     "output_type": "execute_result"
    }
   ],
   "source": [
    "train_dataset[1]"
   ],
   "metadata": {
    "collapsed": false,
    "ExecuteTime": {
     "end_time": "2024-05-14T15:58:36.293131700Z",
     "start_time": "2024-05-14T15:58:36.285678400Z"
    }
   },
   "id": "cf3673445719027"
  },
  {
   "cell_type": "code",
   "execution_count": 51,
   "outputs": [
    {
     "data": {
      "text/plain": "<Axes: ylabel='Count'>"
     },
     "execution_count": 51,
     "metadata": {},
     "output_type": "execute_result"
    },
    {
     "data": {
      "text/plain": "<Figure size 640x480 with 1 Axes>",
      "image/png": "[encoded data removed]"
     },
     "metadata": {},
     "output_type": "display_data"
    }
   ],
   "source": [
    "sns.histplot(test_dataset.y)"
   ],
   "metadata": {
    "collapsed": false,
    "ExecuteTime": {
     "end_time": "2024-05-14T15:58:36.472096100Z",
     "start_time": "2024-05-14T15:58:36.293131700Z"
    }
   },
   "id": "92bdedb1588e9be0"
  },
  {
   "cell_type": "code",
   "execution_count": 52,
   "outputs": [],
   "source": [
    "from sklearn.model_selection import GridSearchCV\n",
    "\n",
    "\n",
    "class TrainingModel:\n",
    "    def __init__(\n",
    "            self,\n",
    "            *,\n",
    "            model: typing.Any,\n",
    "            fit_method: str = 'fit',\n",
    "            predict_method: str = 'predict',\n",
    "            **kwargs\n",
    "    ):\n",
    "        self.model = model(**kwargs)  # Экземпляр модели с начальными параметрами\n",
    "        self._fit_method = fit_method\n",
    "        self._predict_method = predict_method\n",
    "\n",
    "    def fit(self, x_train: pd.DataFrame, y_train: pd.DataFrame, **kwargs):\n",
    "        getattr(self.model, self._fit_method)(x_train, y_train, **kwargs)\n",
    "\n",
    "    def predict(self, x_test: pd.DataFrame, **kwargs) -> typing.Union[np.ndarray]:\n",
    "        return getattr(self.model, self._predict_method)(x_test, **kwargs)\n",
    "\n",
    "    def grid_search(\n",
    "            self,\n",
    "            *,\n",
    "            param_grid: typing.Dict[str, typing.List[typing.Any]],\n",
    "            x_train: pd.DataFrame,\n",
    "            y_train: pd.DataFrame,\n",
    "            **kwargs\n",
    "    ):\n",
    "        grid_search = GridSearchCV(\n",
    "            estimator=self.model,\n",
    "            param_grid=param_grid,\n",
    "            **kwargs\n",
    "        )\n",
    "\n",
    "        grid_search.fit(x_train, y_train)\n",
    "\n",
    "        self.model = grid_search.best_estimator_\n",
    "\n",
    "        print('Лучшие параметры:', grid_search.best_params_)\n",
    "        print('Лучшая оценка:', grid_search.best_score_)\n",
    "\n",
    "        return grid_search\n"
   ],
   "metadata": {
    "collapsed": false,
    "ExecuteTime": {
     "end_time": "2024-05-14T15:58:36.479519700Z",
     "start_time": "2024-05-14T15:58:36.469609600Z"
    }
   },
   "id": "5f80fd338bd51c59"
  },
  {
   "cell_type": "code",
   "execution_count": null,
   "outputs": [],
   "source": [
    "!pip install catboost & > /dev/null"
   ],
   "metadata": {
    "collapsed": false
   },
   "id": "9c7f2ae759782198"
  },
  {
   "cell_type": "code",
   "execution_count": 53,
   "outputs": [],
   "source": [
    "from catboost import CatBoostClassifier, CatBoostRegressor\n",
    "\n",
    "# Классификация\n",
    "# training_model = TrainingModel(\n",
    "#     model=CatBoostClassifier,\n",
    "#     iterations=1000,\n",
    "#     depth=8,\n",
    "#     l2_leaf_reg=1,\n",
    "#     verbose=0\n",
    "# )\n",
    "# Регрессия\n",
    "training_model = TrainingModel(\n",
    "    model=CatBoostRegressor,\n",
    "    iterations=1000,\n",
    "    depth=8,\n",
    "    l2_leaf_reg=3,\n",
    "    verbose=0,\n",
    ")"
   ],
   "metadata": {
    "collapsed": false,
    "ExecuteTime": {
     "end_time": "2024-05-14T15:58:36.479519700Z",
     "start_time": "2024-05-14T15:58:36.472601400Z"
    }
   },
   "id": "a78e0e4976c88d06"
  },
  {
   "cell_type": "code",
   "execution_count": null,
   "outputs": [],
   "source": [
    "param_grid = {\n",
    "    'iterations': [300, 500, 1000],\n",
    "    'learning_rate': [0.01, 0.05, 0.1, None],\n",
    "    'depth': [4, 6, 8, None],\n",
    "    'l2_leaf_reg': [1, 3, 5, None],\n",
    "}\n",
    "training_model.grid_search(\n",
    "    param_grid=param_grid,\n",
    "    x_train=train_dataset.x,\n",
    "    y_train=train_dataset.y,\n",
    "    cv=5,\n",
    "    # scoring='accuracy',\n",
    "    scoring='neg_mean_squared_error',\n",
    "    verbose=2\n",
    ")"
   ],
   "metadata": {
    "collapsed": false,
    "ExecuteTime": {
     "start_time": "2024-05-14T15:41:18.144382300Z"
    }
   },
   "id": "bc643d83e3bd1292"
  },
  {
   "cell_type": "markdown",
   "source": [
    "Лучшие параметры (классификация):\n",
    "для IC50 {'depth': 8, 'iterations': 500, 'l2_leaf_reg': 3, 'learning_rate': 0.01}\n",
    "для CC50 {'depth': 8, 'iterations': 1000, 'l2_leaf_reg': 1, 'learning_rate': 0.05}"
   ],
   "metadata": {
    "collapsed": false
   },
   "id": "c51620baedc143b2"
  },
  {
   "cell_type": "markdown",
   "source": [
    "Лучшие параметры (регрессия):\n",
    "для СС50 {'depth': 8, 'iterations': 300, 'l2_leaf_reg': 3, 'learning_rate': 0.1}\n",
    "для IC50 {'depth': 8, 'iterations': 1000, 'l2_leaf_reg': 3, 'learning_rate': 0.01}"
   ],
   "metadata": {
    "collapsed": false
   },
   "id": "8d5c0faaa45ff27c"
  },
  {
   "cell_type": "code",
   "execution_count": 54,
   "outputs": [],
   "source": [
    "training_model.fit(train_dataset.x, train_dataset.y)"
   ],
   "metadata": {
    "collapsed": false,
    "ExecuteTime": {
     "end_time": "2024-05-14T15:59:05.651867800Z",
     "start_time": "2024-05-14T15:58:36.479519700Z"
    }
   },
   "id": "b59d90368298fad9"
  },
  {
   "cell_type": "code",
   "execution_count": 55,
   "outputs": [],
   "source": [
    "y_pred = training_model.predict(test_dataset.x)"
   ],
   "metadata": {
    "collapsed": false,
    "ExecuteTime": {
     "end_time": "2024-05-14T15:59:05.843041300Z",
     "start_time": "2024-05-14T15:59:05.653881900Z"
    }
   },
   "id": "75e0e59105a51649"
  },
  {
   "cell_type": "code",
   "execution_count": 56,
   "outputs": [
    {
     "data": {
      "text/plain": "array([296.1579121 , 266.96506999, 177.71823096, 183.13498964,\n        36.07975435,  38.05517187,  17.09922714, 251.20642416,\n       290.52065598, 290.0200593 , 312.76613383, 213.86398394,\n       173.18879153, 264.82286955, 264.54222663, 197.37150225,\n       183.28688274, 189.36097278, 115.935813  ,  28.57735155,\n       127.05836708,  49.66330717,  96.34237693, 189.63681318,\n       101.67902347, 100.29122115, 131.38756656, 137.70654708,\n        96.00802751, 200.01066651, 307.79378192,  27.54142464,\n       206.43843363, 124.11974531, 287.65554963, 166.53152082,\n        66.38997783, 252.57911626, 226.77619716, 185.614421  ,\n       222.0774844 ,  23.63210333, 227.36037004, 147.62359431,\n       133.48364874, 233.55142298, 154.60577603, 259.8196946 ,\n       109.58331208, 114.09647715,  75.76640436, 119.28849703,\n       117.56388467,  89.64009386, 193.58608647, 107.72834971,\n        29.90601595, 131.30079076, 225.13336543, 118.28610368,\n       142.31928879, 164.82344154, 128.69654035, 181.08078316,\n       255.51561088, 268.10890918, 264.54423029, 194.75678677,\n       230.78338941, 224.44688463, 269.90089531, 272.59847537,\n       294.46169786, 298.95805927, 233.52379399, 280.78920617,\n       282.86201591, 242.57916984, 179.35686517, 265.70966943,\n        94.35485327,  54.87777954, 306.54121538, 231.02658059,\n       249.48636637, 302.61789337, 216.81235025, 306.24754999,\n       182.33605508, 174.3288003 , 229.72859987, 261.74097979,\n       319.23046512, 313.86252457, 292.55624047,  49.6193417 ,\n       293.82124225, 247.46482777,  86.11551445, 287.48010182,\n       276.24689272,  93.20095596, 264.72183858, 127.07642644,\n       290.51796148, 295.8835314 , 214.47683289, 301.65874046,\n       297.46785441, 195.48706732, 230.59154986, 292.18547355,\n       288.26178011, 304.88566822, 293.95522476, 305.00591374,\n       295.18298859, 299.87351288, 298.92606036, 288.10985071,\n        25.69295025,  16.23202726, 273.98311011, 273.98311011,\n       283.17008212, 298.59749768,  43.05547157, 126.57171452,\n       140.80454483, 190.56051775, 161.77217468, 265.88563919,\n       102.76037729, 232.74762108,  48.82199684, 127.12747109,\n       190.32001317, 180.00463071, 246.68438252, 208.12566111,\n       203.6178585 , 137.16995968, 137.16995968, 196.02981133,\n        26.25922945,  59.96216228,  46.5128972 ,  28.56451033,\n        88.40367457,  18.12732142,  10.60615307,  23.0759775 ,\n        44.11869247,  17.92449927,  64.82422341,  43.51801812,\n        85.79040472,  24.45665866,  42.92610695,  45.17335774,\n        67.23590724,  67.23590724,  33.45450166,  33.45450166,\n        33.45450166,  10.57118082,  21.9469643 ,  28.4255391 ,\n        30.84125234,  54.84315417, 146.04709962,  43.87901061,\n        56.51736131,  45.40587101,  44.02758632,  91.26193862,\n        52.08550519,  43.35327233, 245.05105158,  87.20957913,\n        92.4196101 ,  54.89742274,  67.23590724,  29.31709885,\n        67.23590724,  47.27714771,  46.37560767,  97.61901133,\n        52.27429175,  73.20355297,  33.45450166, 105.75470966,\n       107.0998941 , 133.02003051, 120.28844744, 104.46228462,\n        34.41944512,  52.15541038,  41.09845178, 111.25582092,\n       194.56375977, 118.49815633,  86.67246644,  87.2133308 ,\n       185.2941459 ,  72.16913975,  56.40376965,  45.01563426,\n        41.32428686,  51.88540826,  43.07924371,  38.24581992,\n        38.0422832 ,  47.47465717, 146.04709962, 153.4065188 ,\n       119.97162089, 120.88930706,  20.5668183 ,  18.67878921,\n        18.67878921, 142.13421769,  -2.66695578,   4.96555379,\n         0.65477574,  10.6024473 ,  45.64274687,  90.65786011,\n        11.48471474,  11.1660249 ,  55.7707548 ,  29.07677943,\n        43.87901061,  85.49921184,  32.90549249, 185.31617174,\n       110.76592627,  91.53387309,  55.03152119, 170.85227901,\n       196.78875873, 234.20102912,  78.57705895, 232.95838382,\n       160.80441926, 238.88497448, 149.19332431,  72.6397514 ,\n       289.08221214, 225.23260631,  33.45450166, 249.03439836,\n       247.47547706,  48.31430121,  22.97060792,  67.78657711,\n        44.10122371, 113.55173582, 121.99850529, 130.21935304,\n       227.51168183, 227.51168183,  43.87901061, 278.34174307,\n       207.40183915, 171.37656223, 171.37656223,  47.32461981,\n        82.96279899,  87.64590721,  63.78356467,  53.27822796,\n        67.23590724, 154.35195378, 152.51503771, 101.75774885,\n        91.51305454,  39.81722323,  20.25345565,  64.73867337,\n        83.46542784,  20.25345565, 178.66123991, 162.61634899,\n       222.40268411, 207.17605714, 187.36412112, 108.86521619,\n       110.50618705, 198.98833833, 198.80714026,  21.23109121,\n        33.18182025,  51.28748995,  29.21220772,  34.81404972,\n        62.27083787,  40.56445602, 111.84627887,  24.85853642,\n        38.42278581,  63.58556874,  38.46141864,  32.82943899,\n        40.13558953,  34.4005859 ,  38.11146693,  56.6394317 ,\n        43.22772307,  31.70045988,  84.51667577,  52.61646243,\n        53.39738859,  43.95837123,   2.61177234, 207.96967837,\n       167.00379512,  57.00745303,  46.77269706,  32.88473863,\n        33.08691522,  33.23837339,  30.31355643])"
     },
     "execution_count": 56,
     "metadata": {},
     "output_type": "execute_result"
    }
   ],
   "source": [
    "y_pred"
   ],
   "metadata": {
    "collapsed": false,
    "ExecuteTime": {
     "end_time": "2024-05-14T15:59:05.852335700Z",
     "start_time": "2024-05-14T15:59:05.843041300Z"
    }
   },
   "id": "434577091e5fd8"
  },
  {
   "cell_type": "code",
   "execution_count": 57,
   "outputs": [
    {
     "data": {
      "text/plain": "<Axes: ylabel='Count'>"
     },
     "execution_count": 57,
     "metadata": {},
     "output_type": "execute_result"
    },
    {
     "data": {
      "text/plain": "<Figure size 640x480 with 1 Axes>",
      "image/png": "[encoded data removed]"
     },
     "metadata": {},
     "output_type": "display_data"
    }
   ],
   "source": [
    "sns.histplot(y_pred)"
   ],
   "metadata": {
    "collapsed": false,
    "ExecuteTime": {
     "end_time": "2024-05-14T15:59:06.010654400Z",
     "start_time": "2024-05-14T15:59:05.852335700Z"
    }
   },
   "id": "fdd68abd0a402e0e"
  },
  {
   "cell_type": "code",
   "execution_count": 58,
   "outputs": [
    {
     "name": "stdout",
     "output_type": "stream",
     "text": [
      "MAE: 79.01653213734605\n",
      "MAPE: 4.630478057774982\n",
      "MSE: 19496.09873770727\n",
      "sqrt(MSE): 139.6284309791787\n"
     ]
    }
   ],
   "source": [
    "from math import sqrt\n",
    "from sklearn.metrics import accuracy_score, mean_absolute_error, mean_absolute_percentage_error, mean_squared_error\n",
    "\n",
    "# Классификация\n",
    "# print('Accuracy:', accuracy_score(test_dataset.y, y_pred))\n",
    "\n",
    "# Регрессия\n",
    "print('MAE:', mean_absolute_error(test_dataset.y, y_pred))\n",
    "print('MAPE:', mean_absolute_percentage_error(test_dataset.y, y_pred))\n",
    "print('MSE:', mean_squared_error(test_dataset.y, y_pred))\n",
    "print('sqrt(MSE):', sqrt(mean_squared_error(test_dataset.y, y_pred)))"
   ],
   "metadata": {
    "collapsed": false,
    "ExecuteTime": {
     "end_time": "2024-05-14T15:59:06.019282500Z",
     "start_time": "2024-05-14T15:59:06.010654400Z"
    }
   },
   "id": "2baaa2e2ba65aed5"
  },
  {
   "cell_type": "markdown",
   "source": [
    "| Metrics                       | Accuracy        | MAE           | MAPE         | MSE              | sqrt(MSE)    |\n",
    "|-------------------------------|-----------------|---------------|--------------|------------------|--------------|\n",
    "|                               | CC50 / IC50     | CC50 / IC50   | CC50 / IC50  | CC50 / IC50      | CC50 / IC50  |\n",
    "| CatBoost                      |                 |               |              |                  |              |\n",
    "| default                       | 0.7988 / 0.7788 | 74.08 / 47.23 | 5.53 / 33.46 | 14773.5 / 7199.3 | 121.5 / 84.8 |\n",
    "| GridSearchCV                  | 0.8142 / 0.7801 | 73.09 / 46.78 | 5.34 / 33.27 | 13960.6 / 6830.6 | 118.1 / 82.6 |\n",
    "| Ограничение 300               |                 | 56.62 / 41.17 | 4.48 / 23.38 | 6764.2 / 4716.8  | 82.2 / 68.6  |\n",
    "| Огр-ие 300 (только на трейне) |                 | 79.01 / 44.78 | 4.63 / 23.38 | 15578.9 / 6974.3 | 124.8 / 83.5 |"
   ],
   "metadata": {
    "collapsed": false
   },
   "id": "5185574dbf9fc497"
  },
  {
   "cell_type": "code",
   "execution_count": null,
   "outputs": [],
   "source": [],
   "metadata": {
    "collapsed": false
   },
   "id": "9e7dac36efbe46dd"
  }
 ],
 "metadata": {
  "kernelspec": {
   "display_name": "Python 3",
   "language": "python",
   "name": "python3"
  },
  "language_info": {
   "codemirror_mode": {
    "name": "ipython",
    "version": 2
   },
   "file_extension": ".py",
   "mimetype": "text/x-python",
   "name": "python",
   "nbconvert_exporter": "python",
   "pygments_lexer": "ipython2",
   "version": "2.7.6"
  }
 },
 "nbformat": 4,
 "nbformat_minor": 5
}
